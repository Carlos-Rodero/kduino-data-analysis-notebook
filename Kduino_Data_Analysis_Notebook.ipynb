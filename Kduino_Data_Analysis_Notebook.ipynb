{
   "nbformat":4,
   "nbformat_minor":0,
   "metadata":{
      "colab":{
         "name":"Kduino_Data_Analysis_Notebook.ipynb",
         "provenance":[
            
         ],
         "collapsed_sections":[
            
         ],
         "toc_visible":true,
         "authorship_tag":"ABX9TyNlt5DnYx/Wnt7XSGD8Ut9V",
         "include_colab_link":true
      },
      "kernelspec":{
         "name":"python3",
         "display_name":"Python 3"
      },
      "language_info":{
         "name":"python"
      }
   },
   "cells":[
      {
         "cell_type":"markdown",
         "metadata":{
            "id":"view-in-github",
            "colab_type":"text"
         },
         "source":[
            "<a href=""https":" target=""_parent""><img src=""https":" alt=""Open In Colab""/></a>"
         ]
      },
      {
         "cell_type":"code",
         "source":[
            "!pip install mooda===1.12.0
",
            "
",
            "import mooda as md
",
            "import pandas as pd
",
            "import numpy as np
",
            "import glob
",
            "import yaml
",
            "import os
",
            "import re
",
            "import plotly.graph_objects as go
",
            "import matplotlib.pyplot as plt
",
            "from matplotlib import style
",
            "from scipy import stats, interpolate
",
            "from io import StringIO
",
            "from datetime import datetime
",
            "from google.colab import files
"
         ],
         "metadata":{
            "id":"K3rLLm5pruii",
            "colab":{
               "base_uri":"https://localhost:8080/"
            },
            "outputId":"a83ab47c-7a0d-403e-e814-67245a668030"
         },
         "execution_count":2,
         "outputs":[
            {
               "output_type":"stream",
               "name":"stdout",
               "text":[
                  "Requirement already satisfied: mooda===1.12.0 in /usr/local/lib/python3.7/dist-packages (1.12.0)
",
                  "Requirement already satisfied: Flask>=1.1.2 in /usr/local/lib/python3.7/dist-packages (from mooda===1.12.0) (1.1.4)
",
                  "Requirement already satisfied: gsw in /usr/local/lib/python3.7/dist-packages (from mooda===1.12.0) (3.4.0)
",
                  "Requirement already satisfied: ipywidgets>=7.6.3 in /usr/local/lib/python3.7/dist-packages (from mooda===1.12.0) (7.6.5)
",
                  "Requirement already satisfied: plotly>=4.9.0 in /usr/local/lib/python3.7/dist-packages (from mooda===1.12.0) (5.5.0)
",
                  "Requirement already satisfied: matplotlib>=3.3.0 in /usr/local/lib/python3.7/dist-packages (from mooda===1.12.0) (3.5.1)
",
                  "Requirement already satisfied: statsmodels in /usr/local/lib/python3.7/dist-packages (from mooda===1.12.0) (0.10.2)
",
                  "Requirement already satisfied: scikit-learn>=0.23.1 in /usr/local/lib/python3.7/dist-packages (from mooda===1.12.0) (1.0.1)
",
                  "Requirement already satisfied: netCDF4>=1.5.3 in /usr/local/lib/python3.7/dist-packages (from mooda===1.12.0) (1.5.8)
",
                  "Requirement already satisfied: xarray>=0.16.0 in /usr/local/lib/python3.7/dist-packages (from mooda===1.12.0) (0.18.2)
",
                  "Requirement already satisfied: nbformat>=5.0.7 in /usr/local/lib/python3.7/dist-packages (from mooda===1.12.0) (5.1.3)
",
                  "Requirement already satisfied: numpy>=1.19.0 in /usr/local/lib/python3.7/dist-packages (from mooda===1.12.0) (1.19.5)
",
                  "Requirement already satisfied: scipy>=1.5.1 in /usr/local/lib/python3.7/dist-packages (from mooda===1.12.0) (1.7.3)
",
                  "Requirement already satisfied: pandas>=1.0.5 in /usr/local/lib/python3.7/dist-packages (from mooda===1.12.0) (1.1.5)
",
                  "Requirement already satisfied: sklearn in /usr/local/lib/python3.7/dist-packages (from mooda===1.12.0) (0.0)
",
                  "Requirement already satisfied: elasticsearch>=7.8.0 in /usr/local/lib/python3.7/dist-packages (from mooda===1.12.0) (7.16.2)
",
                  "Requirement already satisfied: requests>=2.24.0 in /usr/local/lib/python3.7/dist-packages (from mooda===1.12.0) (2.27.1)
",
                  "Requirement already satisfied: urllib3<2,>=1.21.1 in /usr/local/lib/python3.7/dist-packages (from elasticsearch>=7.8.0->mooda===1.12.0) (1.24.3)
",
                  "Requirement already satisfied: certifi in /usr/local/lib/python3.7/dist-packages (from elasticsearch>=7.8.0->mooda===1.12.0) (2021.10.8)
",
                  "Requirement already satisfied: itsdangerous<2.0,>=0.24 in /usr/local/lib/python3.7/dist-packages (from Flask>=1.1.2->mooda===1.12.0) (1.1.0)
",
                  "Requirement already satisfied: Jinja2<3.0,>=2.10.1 in /usr/local/lib/python3.7/dist-packages (from Flask>=1.1.2->mooda===1.12.0) (2.11.3)
",
                  "Requirement already satisfied: click<8.0,>=5.1 in /usr/local/lib/python3.7/dist-packages (from Flask>=1.1.2->mooda===1.12.0) (7.1.2)
",
                  "Requirement already satisfied: Werkzeug<2.0,>=0.15 in /usr/local/lib/python3.7/dist-packages (from Flask>=1.1.2->mooda===1.12.0) (1.0.1)
",
                  "Requirement already satisfied: traitlets>=4.3.1 in /usr/local/lib/python3.7/dist-packages (from ipywidgets>=7.6.3->mooda===1.12.0) (5.1.1)
",
                  "Requirement already satisfied: jupyterlab-widgets>=1.0.0 in /usr/local/lib/python3.7/dist-packages (from ipywidgets>=7.6.3->mooda===1.12.0) (1.0.2)
",
                  "Requirement already satisfied: ipython-genutils~=0.2.0 in /usr/local/lib/python3.7/dist-packages (from ipywidgets>=7.6.3->mooda===1.12.0) (0.2.0)
",
                  "Requirement already satisfied: widgetsnbextension~=3.5.0 in /usr/local/lib/python3.7/dist-packages (from ipywidgets>=7.6.3->mooda===1.12.0) (3.5.2)
",
                  "Requirement already satisfied: ipython>=4.0.0 in /usr/local/lib/python3.7/dist-packages (from ipywidgets>=7.6.3->mooda===1.12.0) (5.5.0)
",
                  "Requirement already satisfied: ipykernel>=4.5.1 in /usr/local/lib/python3.7/dist-packages (from ipywidgets>=7.6.3->mooda===1.12.0) (4.10.1)
",
                  "Requirement already satisfied: tornado>=4.0 in /usr/local/lib/python3.7/dist-packages (from ipykernel>=4.5.1->ipywidgets>=7.6.3->mooda===1.12.0) (5.1.1)
",
                  "Requirement already satisfied: jupyter-client in /usr/local/lib/python3.7/dist-packages (from ipykernel>=4.5.1->ipywidgets>=7.6.3->mooda===1.12.0) (5.3.5)
",
                  "Requirement already satisfied: pygments in /usr/local/lib/python3.7/dist-packages (from ipython>=4.0.0->ipywidgets>=7.6.3->mooda===1.12.0) (2.6.1)
",
                  "Requirement already satisfied: simplegeneric>0.8 in /usr/local/lib/python3.7/dist-packages (from ipython>=4.0.0->ipywidgets>=7.6.3->mooda===1.12.0) (0.8.1)
",
                  "Requirement already satisfied: pickleshare in /usr/local/lib/python3.7/dist-packages (from ipython>=4.0.0->ipywidgets>=7.6.3->mooda===1.12.0) (0.7.5)
",
                  "Requirement already satisfied: setuptools>=18.5 in /usr/local/lib/python3.7/dist-packages (from ipython>=4.0.0->ipywidgets>=7.6.3->mooda===1.12.0) (57.4.0)
",
                  "Requirement already satisfied: decorator in /usr/local/lib/python3.7/dist-packages (from ipython>=4.0.0->ipywidgets>=7.6.3->mooda===1.12.0) (4.4.2)
",
                  "Requirement already satisfied: pexpect in /usr/local/lib/python3.7/dist-packages (from ipython>=4.0.0->ipywidgets>=7.6.3->mooda===1.12.0) (4.8.0)
",
                  "Requirement already satisfied: prompt-toolkit<2.0.0,>=1.0.4 in /usr/local/lib/python3.7/dist-packages (from ipython>=4.0.0->ipywidgets>=7.6.3->mooda===1.12.0) (1.0.18)
",
                  "Requirement already satisfied: MarkupSafe>=0.23 in /usr/local/lib/python3.7/dist-packages (from Jinja2<3.0,>=2.10.1->Flask>=1.1.2->mooda===1.12.0) (2.0.1)
",
                  "Requirement already satisfied: cycler>=0.10 in /usr/local/lib/python3.7/dist-packages (from matplotlib>=3.3.0->mooda===1.12.0) (0.11.0)
",
                  "Requirement already satisfied: python-dateutil>=2.7 in /usr/local/lib/python3.7/dist-packages (from matplotlib>=3.3.0->mooda===1.12.0) (2.8.2)
",
                  "Requirement already satisfied: packaging>=20.0 in /usr/local/lib/python3.7/dist-packages (from matplotlib>=3.3.0->mooda===1.12.0) (21.3)
",
                  "Requirement already satisfied: fonttools>=4.22.0 in /usr/local/lib/python3.7/dist-packages (from matplotlib>=3.3.0->mooda===1.12.0) (4.28.5)
",
                  "Requirement already satisfied: kiwisolver>=1.0.1 in /usr/local/lib/python3.7/dist-packages (from matplotlib>=3.3.0->mooda===1.12.0) (1.3.2)
",
                  "Requirement already satisfied: pyparsing>=2.2.1 in /usr/local/lib/python3.7/dist-packages (from matplotlib>=3.3.0->mooda===1.12.0) (3.0.6)
",
                  "Requirement already satisfied: pillow>=6.2.0 in /usr/local/lib/python3.7/dist-packages (from matplotlib>=3.3.0->mooda===1.12.0) (7.1.2)
",
                  "Requirement already satisfied: jsonschema!=2.5.0,>=2.4 in /usr/local/lib/python3.7/dist-packages (from nbformat>=5.0.7->mooda===1.12.0) (2.6.0)
",
                  "Requirement already satisfied: jupyter-core in /usr/local/lib/python3.7/dist-packages (from nbformat>=5.0.7->mooda===1.12.0) (4.9.1)
",
                  "Requirement already satisfied: cftime in /usr/local/lib/python3.7/dist-packages (from netCDF4>=1.5.3->mooda===1.12.0) (1.5.1.1)
",
                  "Requirement already satisfied: pytz>=2017.2 in /usr/local/lib/python3.7/dist-packages (from pandas>=1.0.5->mooda===1.12.0) (2018.9)
",
                  "Requirement already satisfied: tenacity>=6.2.0 in /usr/local/lib/python3.7/dist-packages (from plotly>=4.9.0->mooda===1.12.0) (8.0.1)
",
                  "Requirement already satisfied: six in /usr/local/lib/python3.7/dist-packages (from plotly>=4.9.0->mooda===1.12.0) (1.15.0)
",
                  "Requirement already satisfied: wcwidth in /usr/local/lib/python3.7/dist-packages (from prompt-toolkit<2.0.0,>=1.0.4->ipython>=4.0.0->ipywidgets>=7.6.3->mooda===1.12.0) (0.2.5)
",
                  "Requirement already satisfied: idna<4,>=2.5 in /usr/local/lib/python3.7/dist-packages (from requests>=2.24.0->mooda===1.12.0) (2.10)
",
                  "Requirement already satisfied: charset-normalizer~=2.0.0 in /usr/local/lib/python3.7/dist-packages (from requests>=2.24.0->mooda===1.12.0) (2.0.9)
",
                  "Requirement already satisfied: threadpoolctl>=2.0.0 in /usr/local/lib/python3.7/dist-packages (from scikit-learn>=0.23.1->mooda===1.12.0) (3.0.0)
",
                  "Requirement already satisfied: joblib>=0.11 in /usr/local/lib/python3.7/dist-packages (from scikit-learn>=0.23.1->mooda===1.12.0) (1.1.0)
",
                  "Requirement already satisfied: notebook>=4.4.1 in /usr/local/lib/python3.7/dist-packages (from widgetsnbextension~=3.5.0->ipywidgets>=7.6.3->mooda===1.12.0) (5.3.1)
",
                  "Requirement already satisfied: terminado>=0.8.1 in /usr/local/lib/python3.7/dist-packages (from notebook>=4.4.1->widgetsnbextension~=3.5.0->ipywidgets>=7.6.3->mooda===1.12.0) (0.12.1)
",
                  "Requirement already satisfied: nbconvert in /usr/local/lib/python3.7/dist-packages (from notebook>=4.4.1->widgetsnbextension~=3.5.0->ipywidgets>=7.6.3->mooda===1.12.0) (5.6.1)
",
                  "Requirement already satisfied: Send2Trash in /usr/local/lib/python3.7/dist-packages (from notebook>=4.4.1->widgetsnbextension~=3.5.0->ipywidgets>=7.6.3->mooda===1.12.0) (1.8.0)
",
                  "Requirement already satisfied: pyzmq>=13 in /usr/local/lib/python3.7/dist-packages (from jupyter-client->ipykernel>=4.5.1->ipywidgets>=7.6.3->mooda===1.12.0) (22.3.0)
",
                  "Requirement already satisfied: ptyprocess in /usr/local/lib/python3.7/dist-packages (from terminado>=0.8.1->notebook>=4.4.1->widgetsnbextension~=3.5.0->ipywidgets>=7.6.3->mooda===1.12.0) (0.7.0)
",
                  "Requirement already satisfied: entrypoints>=0.2.2 in /usr/local/lib/python3.7/dist-packages (from nbconvert->notebook>=4.4.1->widgetsnbextension~=3.5.0->ipywidgets>=7.6.3->mooda===1.12.0) (0.3)
",
                  "Requirement already satisfied: defusedxml in /usr/local/lib/python3.7/dist-packages (from nbconvert->notebook>=4.4.1->widgetsnbextension~=3.5.0->ipywidgets>=7.6.3->mooda===1.12.0) (0.7.1)
",
                  "Requirement already satisfied: testpath in /usr/local/lib/python3.7/dist-packages (from nbconvert->notebook>=4.4.1->widgetsnbextension~=3.5.0->ipywidgets>=7.6.3->mooda===1.12.0) (0.5.0)
",
                  "Requirement already satisfied: mistune<2,>=0.8.1 in /usr/local/lib/python3.7/dist-packages (from nbconvert->notebook>=4.4.1->widgetsnbextension~=3.5.0->ipywidgets>=7.6.3->mooda===1.12.0) (0.8.4)
",
                  "Requirement already satisfied: bleach in /usr/local/lib/python3.7/dist-packages (from nbconvert->notebook>=4.4.1->widgetsnbextension~=3.5.0->ipywidgets>=7.6.3->mooda===1.12.0) (4.1.0)
",
                  "Requirement already satisfied: pandocfilters>=1.4.1 in /usr/local/lib/python3.7/dist-packages (from nbconvert->notebook>=4.4.1->widgetsnbextension~=3.5.0->ipywidgets>=7.6.3->mooda===1.12.0) (1.5.0)
",
                  "Requirement already satisfied: webencodings in /usr/local/lib/python3.7/dist-packages (from bleach->nbconvert->notebook>=4.4.1->widgetsnbextension~=3.5.0->ipywidgets>=7.6.3->mooda===1.12.0) (0.5.1)
",
                  "Requirement already satisfied: patsy>=0.4.0 in /usr/local/lib/python3.7/dist-packages (from statsmodels->mooda===1.12.0) (0.5.2)
"
               ]
            }
         ]
      },
      {
         "cell_type":"markdown",
         "source":[
            "
",
            "<p><img alt=""logo"" height="150px" src='https://drive.google.com/uc?export=view&id=11Swg70eHalalGMv8HemoK6l7qu3XRuLC' align=""center"" hspace="10px" vspace="0px"/></p>
",
            "
",
            "<h1><b>KdUINO Data Analysis Notebook</b></h1>
",
            "
",
            "
",
            "
",
            "> The KdUINO Data Analysis Notebook is a Jupyter Notebook hosted by Google Colab designed to analyze data files from [KdUINO](https://monocle-h2020.eu/Sensors_and_services/KdUINO) instrumentation. Also, provide methods to generate plots and convert data files in netCDF and CSV format.
",
            "
",
            "</br>
",
            "This Notebook works with different versions of KdUINO:
",
            "
",
            "*   KduPRO
",
            "*   KduSTICK
",
            "*   KduMOD Professional
",
            "*   KduMOD Low-Cost
",
            "
",
            "</br>
",
            "
",
            "---
",
            "
"
         ],
         "metadata":{
            "id":"Jpl8roRLyuGu"
         }
      },
      {
         "cell_type":"markdown",
         "source":[
            "<p><img alt=""logo"" height="100px" src='https://git.csic.es/36579996Z/kduino-data-analysis/-/raw/master/docs/img_docs/logo.png' align=""center"" hspace="10px" vspace="0px"/></p>
",
            "
",
            "
",
            "This project has received funding from the European Union's Horizon 2020 research and innovation programme under grant agreement No 776480 ([MONOCLE](https://monocle-h2020.eu/))."
         ],
         "metadata":{
            "id":"XoBxBDf03N3N"
         }
      },
      {
         "cell_type":"markdown",
         "source":[
            "# Select KdUINO
",
            "Please select your KdUINO instrument:"
         ],
         "metadata":{
            "id":"Ehyjv3wj3WvT"
         }
      },
      {
         "cell_type":"code",
         "execution_count":3,
         "metadata":{
            "id":"-_0-Zb11SgY_"
         },
         "outputs":[
            
         ],
         "source":[
            "#@title Select KdUINO { run: ""auto"", display-mode: ""form"" }
",
            "
",
            "kduino = ""KduPRO"" #@param [""KduPRO"", ""KduSTICK"", ""KduMOD Professional"", ""KduMOD Low-Cost"", ""KdUINO""]"
         ]
      },
      {
         "cell_type":"markdown",
         "source":[
            "# Upload Files
",
            "
",
            "Please upload the files from your KdUINO instrument:"
         ],
         "metadata":{
            "id":"TTqxEYUKvSup"
         }
      },
      {
         "cell_type":"code",
         "source":[
            "uploaded = files.upload()"
         ],
         "metadata":{
            "colab":{
               "resources":{
                  "http"::"8080/nbextensions/google.colab/files.js":{
                     "data":"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",
                     "ok":true,
                     "headers":[
                        [
                           "content-type",
                           "application/javascript"
                        ]
                     ],
                     "status":200,
                     "status_text":""
                  }
               },
               "base_uri":"https://localhost:8080/",
               "height":178
            },
            "id":"UFbx8zivrpGh",
            "outputId":"665d12ac-3ccf-4cda-b180-7936121418f9"
         },
         "execution_count":4,
         "outputs":[
            {
               "output_type":"display_data",
               "data":{
                  "text/html":[
                     "
",
                     "     <input type=""file"" id="files-4df93b47-86e7-47cb-8f14-217778d137ce" name=""files"[
                        
                     ]" multiple disabled
",
                     "        style=""border":"none"" />
",
                     "     <output id="result-4df93b47-86e7-47cb-8f14-217778d137ce">
",
                     "      Upload widget is only available when the cell has been executed in the
",
                     "      current browser session. Please rerun this cell to enable.
",
                     "      </output>
",
                     "      <script src=""/nbextensions/google.colab/files.js""></script> "
                  ],
                  "text/plain":[
                     "<IPython.core.display.HTML object>"
                  ]
               },
               "metadata":{
                  
               }
            },
            {
               "output_type":"stream",
               "name":"stdout",
               "text":[
                  "Saving 2022-01-04_buoy3_Spain_Somorrostro_1.00.txt to 2022-01-04_buoy3_Spain_Somorrostro_1.00 (1).txt
",
                  "Saving 2022-01-04_buoy3_Spain_Somorrostro_2.00.txt to 2022-01-04_buoy3_Spain_Somorrostro_2.00 (1).txt
",
                  "Saving 2022-01-04_buoy3_Spain_Somorrostro_3.00.txt to 2022-01-04_buoy3_Spain_Somorrostro_3.00 (1).txt
",
                  "Saving 2022-01-04_buoy3_Spain_Somorrostro_4.00.txt to 2022-01-04_buoy3_Spain_Somorrostro_4.00 (1).txt
"
               ]
            }
         ]
      },
      {
         "cell_type":"markdown",
         "source":[
            "# Configuration
",
            "
",
            "Please configure the time of the sample."
         ],
         "metadata":{
            "id":"Ky56SgiBHnK0"
         }
      },
      {
         "cell_type":"code",
         "source":[
            "#@title Configuration start and stop { run: ""auto"", display-mode: ""form"" }
",
            "date_start = '2022-01-04' #@param {type:""date""}
",
            "time_start = '10:53:00' #@param {type:""string""}
",
            "
",
            "date_stop = '2022-01-04' #@param {type:""date""}
",
            "time_stop = '11:00:00' #@param {type:""string""}
",
            "
",
            "
",
            "
",
            "
",
            "pre_datetime_start = date_start + ""Z"" + time_start + ""T+00":00"
",
            "pre_datetime_stop = date_stop + ""Z"" + time_stop + ""T+00":00"
",
            "
",
            "datetime_start = datetime.fromisoformat(pre_datetime_start)
",
            "datetime_stop = datetime.fromisoformat(pre_datetime_stop)"
         ],
         "metadata":{
            "id":"BEu3hNftIqLx"
         },
         "execution_count":5,
         "outputs":[
            
         ]
      },
      {
         "cell_type":"markdown",
         "source":[
            "# Analysis
",
            "
",
            "Analysis of the KdUINO instrument."
         ],
         "metadata":{
            "id":"res-K0XUOUNm"
         }
      },
      {
         "cell_type":"code",
         "source":[
            "def analysis_kduino():
",
            "  """",
""Function to analyse data from KdUINO to obtain Kd"",
""""
",
            "  if kduino == 'KduPRO':
",
            "    print(""KduPRO"")
",
            "    print(datetime_start)
",
            "    print(datetime_stop)
",
            "
",
            "    # Definitions for regular expression paterns
",
            "    start_string_metadata = r""METADATA""
",
            "    stop_string_metadata = r""DATA""
",
            "    start_string_data = r""\bDATA""
",
            "    stop_string_data = r""METADATA""
",
            "    last_start_string_data = r""\bDATA""
",
            "    end_string_data = r'$(?![\r\n])'
",
            "
",
            "    metadata_patron = re.compile(r'{}(?P<length>)\\s*(?P<table>[\\s\\S]*?){}'.format(
",
            "        start_string_metadata, stop_string_metadata))
",
            "
",
            "    data_patron = re.compile(r'{}(?P<length>)\\s*(?P<table>[\\s\\S]*?){}'.format(
",
            "        start_string_data, stop_string_data))
",
            "    
",
            "    last_data_patron = re.compile(r'{}(?P<length>)\\s*(?P<table>[\\s\\S]*?){}'.format(
",
            "        last_start_string_data, end_string_data))
",
            "
",
            "    selected_info = ""
",
            "    metadata_list = []
",
            "    metadata = {}
",
            "    data_list = []
",
            "    kdupro_list = []
",
            "    
",
            "    for k, v in uploaded.items():
",
            "      # print(k)
",
            "      # print(v)
",
            "
",
            "      with open(k) as reader:
",
            "        content = reader.read()
",
            "        # print(content)
",
            "
",
            "        # Regular expression to find the metadata patron
",
            "        for m in re.finditer(metadata_patron, content):
",
            "          selected_info = m.group('table')
",
            "          metadata = {}
",
            "          lines = selected_info.splitlines()
",
            "          for line in lines:
",
            "            key = line.split(":")[0]
",
            "            if line.count(":") > 1:
",
            "              date_splitted = (line.rsplit(":")[-3:])
",
            "              date_splitted = "".join(date_splitted)
",
            "              value = date_splitted
",
            "              metadata[key] = value
",
            "            else:
",
            "              value = line.split(":")[1]
",
            "              metadata[key] = value.strip()
",
            "
",
            "          metadata_list.append(metadata)
",
            "
",
            "        # Regular expression to find the data patron
",
            "        for d in re.finditer(data_patron, content):
",
            "          selected_info_data = d.group('table')
",
            "          data = StringIO(selected_info_data)
",
            "          df = pd.read_csv(data, skipinitialspace=True, skiprows=1, header=None,
",
            "                           parse_dates={'TIME': [0]},
",
            "                           delimiter=' ', engine='python').set_index('TIME')
",
            "          data_list.append(df)
",
            "
",
            "        for m in re.finditer(last_data_patron, content):
",
            "          selected_info_data = m.group('table')
",
            "          index_last_data = selected_info_data.rfind('DATA')
",
            "          selected_info_last_data = selected_info_data[index_last_data:]
",
            "          data = StringIO(selected_info_last_data)
",
            "          df = pd.read_csv(data, skipinitialspace=True, skiprows=2, header=None,
",
            "                           parse_dates={'TIME': [0, 1]},
",
            "                           delimiter=' ', engine='python').set_index('TIME')
",
            "          data_list.append(df)
",
            "    
",
            "    for index, df in enumerate(data_list):
",
            "      if datetime_start in df.index or datetime_stop in df.index:
",
            "        kdupro_list.append(index)
",
            "
",
            "    # process the files we have selected
",
            "    def create_wf():
",
            "      df = data_list[index]
",
            "      metadata = metadata_list[index]
",
            "      
",
            "      df.columns = range(df.shape[1])
",
            "      # Delete unused columns
",
            "      if len(df.columns) > 4:
",
            "          df_copy = df.copy()
",
            "          ncol = len(df.columns)
",
            "          x = range(4, ncol)
",
            "          df = df.drop(x, axis=1)
",
            "
",
            "      df.columns = range(df.shape[1])
",
            "
",
            "      # Creation of WaterFrame
",
            "      wf = md.WaterFrame()
",
            "
",
            "      # Copy metadata to waterframe
",
            "      wf.metadata = metadata
",
            "
",
            "      depth = wf.metadata[""depth""]
",
            "
",
            "      # Set name of parameters
",
            "      param_red = f'RED_{depth}'
",
            "      param_green = f'GREEN_{depth}'
",
            "      param_blue = f'BLUE_{depth}'
",
            "      param_clear = f'CLEAR_{depth}'
",
            "
",
            "      # Set name of QC parameters
",
            "      param_red_qc = f'RED_{depth}_QC'
",
            "      param_green_qc = f'GREEN_{depth}_QC'
",
            "      param_blue_qc = f'BLUE_{depth}_QC'
",
            "      param_clear_qc = f'CLEAR_{depth}_QC'
",
            "
",
            "      # Init data of waterframe
",
            "      wf.data[param_red] = df[0]
",
            "      wf.data[param_green] = df[1]
",
            "      wf.data[param_blue] = df[2]
",
            "      wf.data[param_clear] = df[3]
",
            "
",
            "      # Create vocabulary
",
            "      wf.vocabulary[param_red] = {'units': ""counts""}
",
            "      wf.vocabulary[param_green] = {'units': ""counts""}
",
            "      wf.vocabulary[param_blue] = {'units': ""counts""}
",
            "      wf.vocabulary[param_clear] = {'units': ""counts""}
",
            "
",
            "      # Resample to seconds
",
            "      wf.resample('S')
",
            "
",
            "      # Delete last index because it is a minute that we are not going to use
",
            "      wf.data.drop(wf.data.tail(1).index, inplace=True)
",
            "
",
            "      # Extract data of the dataframe df. Put all counts in the proper column
",
            "      red_list = []
",
            "      green_list = []
",
            "      blue_list = []
",
            "      clear_list = []
",
            "      for j in range(len(df_copy.index)-1):
",
            "        for i in range(len(df_copy.columns)):
",
            "          if i % 4 == 0:
",
            "            red_list.append(df_copy[i][j])
",
            "            green_list.append(df_copy[i+1].iloc[j])
",
            "            blue_list.append(df_copy[i+2].iloc[j])
",
            "            clear_list.append(df_copy[i+3].iloc[j])
",
            "
",
            "      red_array = np.array(red_list)
",
            "      green_array = np.array(green_list)
",
            "      blue_array = np.array(blue_list)
",
            "      clear_array = np.array(clear_list)
",
            "
",
            "      wf.data[param_red] = red_array
",
            "      wf.data[param_green] = green_array
",
            "      wf.data[param_blue] = blue_array
",
            "      wf.data[param_clear] = clear_array
",
            "
",
            "      # Init waterframe QC data
",
            "      wf.data[param_red_qc] = 0
",
            "      wf.data[param_green_qc] = 0
",
            "      wf.data[param_blue_qc] = 0
",
            "      wf.data[param_clear_qc] = 0
",
            "
",
            "      return wf
",
            "
",
            "    def merge_metadata(dict1, dict2):
",
            "      '''
",
            "      Merge dictionaries and keep values of common keys in list
",
            "      Parameters
",
            "      ----------
",
            "          dict1: dict
",
            "              Dictionary with waterframe metadata
",
            "
",
            "          dict2: dict
",
            "              Dictionary with waterframe metadata
",
            "
",
            "      Returns
",
            "      ----------
",
            "          dict3: dict
",
            "              Dictionary with merged dictionaries of metadata
",
            "      '''
",
            "      # Merge dictionaries
",
            "      dict3 = {**dict1, **dict2}
",
            "
",
            "      # Iterate over items in new dictionary
",
            "      for key, value in dict3.items():
",
            "          # If keys are in both dictionaries
",
            "          if key in dict1 and key in dict2:
",
            "              # If dictionary contains list of elements
",
            "              if isinstance(value, list):
",
            "                  # If values of new dict and values from parameter dict are different,
",
            "                  # and not included in the new dict
",
            "                  if (dict1[key] not in value) and (set(dict1[key]) != set(value)):
",
            "                      dict3[key].append(dict1[key])
",
            "                  elif (dict2[key] not in value) and (set(dict2[key]) != set(value)):
",
            "                      dict3[key].append(dict2[key])
",
            "
",
            "              # If dictionary not contains list of elements
",
            "              else:
",
            "                  if value != dict1[key]:
",
            "                      dict3[key] = [value, dict1[key]]
",
            "                  elif value != dict2[key]:
",
            "                      dict3[key] = [value, dict2[key]]
",
            "      return dict3
",
            "
",
            "    wf_list = []
",
            "    
",
            "    for index in kdupro_list:
",
            "      wf = create_wf()
",
            "      wf_list.append(wf)
",
            "
",
            "    # Declare lists
",
            "    names = []
",
            "    depths = []
",
            "
",
            "    # Create unique waterframe
",
            "    wf_all = md.WaterFrame()
",
            "
",
            "    # Concat all waterframes
",
            "    for index, wf in enumerate(wf_list):
",
            "      if index == 0:
",
            "        wf_all = wf.copy()
",
            "      else:
",
            "        # Concat data
",
            "        wf_all.data = pd.concat([wf_all.data, wf.data], axis=1)
",
            "        # Add metadata
",
            "        wf_all.metadata = merge_metadata(wf.metadata, wf_all.metadata)
",
            "        # Add vocabulary
",
            "        for param in wf.parameters:
",
            "            wf_all.vocabulary[param] = wf.vocabulary[param]
",
            "
",
            "    # Append names and depths to each list
",
            "    for wf in wf_list:
",
            "        if wf is None:
",
            "            pass
",
            "        else:
",
            "            name = wf.metadata[""name""]
",
            "            names.append(name)
",
            "            depth = wf.metadata[""depth""]
",
            "            depths.append(depth)
",
            "    
",
            "    # Slice time
",
            "    mask = (
",
            "        wf_all.data.index >= datetime_start) & (
",
            "            wf_all.data.index <= datetime_stop)
",
            "    wf_all.data = wf_all.data.loc[mask]
",
            "
",
            "    # Resample time
",
            "    wf_all.resample(""T"")
",
            "
",
            "    # Convert depths list elements to float, and save it as a numpy array
",
            "    depths = np.array(list(map(float, depths)))
",
            "
",
            "    # Save CLEAR data in one new waterframe
",
            "    wf_clear = md.WaterFrame()
",
            "    wf_clear.metadata = wf_all.metadata
",
            "    wf_clear.vocabulary = wf_all.vocabulary
",
            "    match_CLEAR = [s for s in wf_all.data if (""CLEAR"" in s) and (""QC"" not in s)]
",
            "    wf_clear.data = wf_all.data.filter(match_CLEAR)
",
            "
",
            "    # Calculate Kd in new column
",
            "    kd_list = []
",
            "    r2_list = []
",
            "    wf_clear.data['Kd'] = 0
",
            "    wf_clear.data['r2'] = 0
",
            "
",
            "    for index, _row in wf_clear.data.iterrows():
",
            "      # CLEAR
",
            "      row_clear = wf_clear.data.loc[index, match_CLEAR].tolist()
",
            "
",
            "      # calculate Kd from linear regression
",
            "      slope, _intercept, r_value, _p_value, _std_err = stats.linregress(depths,
",
            "                                                                        np.log(row_clear))
",
            "      kd_list.append(slope * (-1))
",
            "      r2_list.append(r_value**2)
",
            "    
",
            "      depths_row_clear = np.array(depths)
",
            "      row_clear = np.array(np.log(row_clear))
",
            "
",
            "      # plot depths - values clear
",
            "      plt.plot(depths_row_clear, row_clear, marker='o', linestyle="")
",
            "      plt.plot(depths_row_clear, slope*depths_row_clear + _intercept)
",
            "
",
            "      plt.xlabel(""Depth (m)"")
",
            "      plt.ylabel(""ln(Light)"")
",
            "
",
            "      plt.legend([f""Kd ="{
               np.around(slope * (-1),
               3)
            }",
",
            "                  f'r\\N{SUPERSCRIPT TWO} = {np.around(r_value**2, 3)}'], loc='best', markerscale=0)
",
            "      plt.title(f""Kd at time":{
               "index"
            }")
",
            "      plt.show()
",
            "    plt.close('all')
",
            "    
",
            "    wf_clear.data['Kd'] = kd_list
",
            "    wf_clear.data['r2'] = r2_list
",
            "    
",
            "    print(wf_clear.data)
",
            "    print(""\n"")
",
            "    
",
            "    avgKd = wf_clear.data.loc[wf_clear.data['r2'] > 0.9, 'Kd'].mean()
",
            "    print(""Average Kd for samples with r2 > 0.9":{
               
            }".format(np.around(avgKd, 3)))
",
            "
",
            "    # Plot Kd
",
            "    plt.plot(wf_clear.data.index.strftime('%H:%M'), wf_clear.data['Kd'], marker='o', linestyle=""-"")
",
            "    plt.xlabel(""Time (minutes)"")
",
            "    plt.ylabel("Kd (m-1)")
",
            "
",
            "    plt.legend(""Kd"")
",
            "    plt.title(""Timeseries Kd"")
",
            "    plt.show()
",
            "
",
            "
",
            "  else:
",
            "    print(""KdUINO instrument not configured well."")
",
            "
",
            "analysis_kduino()"
         ],
         "metadata":{
            "id":"0nLnaJHxvpJA",
            "outputId":"6161bd57-9249-4bce-90fb-5bd184816a6a",
            "colab":{
               "base_uri":"https://localhost:8080/",
               "height":1000
            }
         },
         "execution_count":20,
         "outputs":[
            {
               "output_type":"stream",
               "name":"stdout",
               "text":[
                  "KduPRO
",
                  "2022-01-04 10:53:00+00:00
",
                  "2022-01-04 11:00:00+00:00
"
               ]
            },
            {
               "output_type":"display_data",
               "data":{
                  "image/png":"iVBORw0KGgoAAAANSUhEUgAAAYIAAAEWCAYAAABrDZDcAAAAOXRFWHRTb2Z0d2FyZQBNYXRwbG90bGliIHZlcnNpb24zLjUuMSwgaHR0cHM6Ly9tYXRwbG90bGliLm9yZy/YYfK9AAAACXBIWXMAAAsTAAALEwEAmpwYAAAncElEQVR4nO3deZgU9bX/8fdhHxYFARUGYVAiCoKAE0AQxYC7Fwn4i2i8SKLiEsXlSqJm83rzM27PNSp6/akxLtEQ40U0RiUu4BJDFBBFIIIBhBlUNtlk2Ibz+6Nqhp5meqZn6GW66/N6nn6mu77VVae6e+p0fb/VdczdERGR6GqU7QBERCS7lAhERCJOiUBEJOKUCEREIk6JQEQk4pQIREQiTomggTOzFWY2MoPre8XMLsrU+kQk+5QIMix+x25m48zsazM7KcXrKTIzN7MmNcxzi5n9Pnaau5/h7k+kMpZkmNlZZvaumW00sy/N7FEzaxPT3tzMHjOzzWH79TFtg83sNTPbYGZrzexPZtYppn2ymX1iZlvMbLmZTa4lFjOzO8xsfXi7w8wspv1hM/vUzPaY2YQktq2fmc01s23h337VzNPMzBabWUkNy2lmZs+FnyE3s+F1ibua5bmZfWNmW8PbozFt15nZsvD1Xm1m99TyWSoys5nhNv4z/stLuLwvw+U9ZmbNEy0rE+vIRLy5RIkgi8Jv3g8AZ7n7W9mOJ8sOBH4FdAaOBgqBu2LabwG+BXQDTgZ+bGanh23tgIeBorB9C/C7mOcaMD6c73TgKjMbV0MsE4HRwLFAX+DfgMti2j8CrgTm1bZRZtYMeAH4fbj+J4AXwumxJgNra1se8C5wIfBlPeKuzrHu3jq8XRIz/UVggLsfABwTLnNSDcv5A/Ah0B74KfCcmXUEMLPTgBuBEQTvz+HAf1a3EDN7vIbkmpJ1pGFZuc/ddcvgDVgBjCT4B10HFMe1/zvwObCe4AO6AhiZYFlnEXyYNwOrgFti2lYCDmwNb8fHPfd0YCewK2z/KJw+C7gkvD8B+BtwD7ARWAYMCaevAtYAF8Usszlwd7jur4CHgIJ6vk5jgAUxj1cDp8Y8/i9gaoLnDgC21LDs+4D7a2h/D5gY8/hiYHY1870LTKhlO04FSgGLe29Oj3ncHVgMnAGUJPn6lADD6xN3TLsDPZJYV3vgdeDBBO1HAjuANjHT3gEuD+8/A9wW0zYC+DLBsh6v7jVN8TpStqx8uemIIDuuAG4FRrj7nIqJZtYL+B+CZNCZ4B+wSw3L+Ybgm25bgqRwhZmNDttODP+29eDb3t9jn+jurwK3AX8M249NsI5BwMdhLM8AU4FvAz0IvplOMbPW4by3E/yT9QvbC4FfxGzfRjM7oYbtiXUisDB8XjugE8E38QofAb1re268sKtkWKL2UO86rKs2vYGPPdyjhD6OW979wM1AWT3XEbuuhHGb2cdmdkHcc94Ou0CmmVlRbIOZXWBmmwm+sBwL/L+YtpfM7MaY9S5z9y0J1l1dXIeYWfs6blu915GFeHOKEkF2nALMBhbETT8XeMnd33b3HcDPgT2JFuLus9x9gbvvcfePCQ53UzrWACx399+5eznwR+Aw4FZ33+HufyU4qugR7mAnAte5+4bwn+w2oLILxt3buvu7ta3QzE4BLmJvEqlINJtiZtsEtCGOmfUNn5doHOAWgs/97xK0V6wvfl2ta+pvr8OyKpbXJoz3u0Bjd3++HsuubV1V4nb3vu7+TEz7SQTdaUcRHHG9FDsO4O7PeNA1dCTB0d1XMW1nu/vtCdZbse42Cdor7u/z/tVh2+q0jizEm1OUCLLjCoJ/rkfjdi6dCbpcAHD3bwi6iKplZoPCAa+1ZrYJuBzokOJYv4q5XxbGFT+tNdARaAnMDb/5bwReDacnzcwGExx5nOvuS8LJW8O/B8TMegDBWEDsc3sArwDXuPs71Sz7KoIjqLPCRIuZ3RwzWPpQzPri17U17lt9ovi3xty6VrOsytjNrBVwJzX3vddFneIOv3DsdPeNwDUEXVRHVzPfUoIjqAeTXG/FurckaK+4vwUqj1QqPjMXAA9WPDazBxMso07rSGW8+UiJIDu+Iuh3HEbVf64vCL5xA2BmLQm6ZBJ5hmBQ7zB3P5DgW1tFYknmsrKpvPTsOoKk0Dv85t/W3Q9099a1PbGCmfUn2J4fuvsblUG6f03w2sR2Xx1LTPeOmXUj6Mf+L3d/qppl/5BwANDdK8/McffbfO9g6eXh5IU1rasmMctq7e4rw+f1jUv4fcPp3yL4Rv6OmX0JTAM6hV01RcmsL069464In72fn3hNgCNqWO/hFnOWV9y6q4vrK3dfD5VHKm3dvS3BZ/rKmM/QlalYRyrjzUvZHqSI2o2YwV+gK7AcuCd83Jvg28gJQDOCgdfdJB4srhysBQaGj38fPm4JlANH1hDL5QQDno1ips2i6mDxuzFtPYKPTJVllAAnhPfvBZ4FDg4fFwKnJfm6HEOQIM9L0H478BbBmTdHESSG02PW8y/ghgTP/T7BWTZHJxnL5QSDt4UER2kLCQcSw/ZmQAuCgfRLw/uNEiyrGcHg/zUEg+lXhY+bEexcD425jSHoojmUoLuouuU1D9dXQjAQ3YJwILq2uOOW05tgLKcxwRHdb4BPgaZh+yUx72OvcFn/XcNrNjv8vLYAvktwckHHsO308PXvRTCe9SZwe4LlPE6CAfhUrSPVy8qHW9YDiNqNuLOACA7HVwG/Dh9fRHBWSTJnDZ0b7lS2AC8BUwgTQdh+K8EpiRuBwdU8vz1BIvgamBdOm0X9E0ELgnGBZQRnMi0GJsXMuxUYlmBbfkcwHrI15rYwpr058Fi43K+A62PafknVM6S2EnSJVLQvZ+/ZURW3h2p4j4ygy2ZDeLuTqmf9zArXF3sbXsPy+gNzCY6Y5gH9E8w3nFrOGgo/D/HrLkoy7oXA98P73yHY8X9D8AViOvCtuPfjq7B9BcGpvC1i2l8Bbo55XBS+LmXhckfGxX19uLzN4bKbJ9i+x0mcCOq9jnTFmy+3im8SIiISURojEBGJOCUCEZGIUyIQEYk4JQIRkYhLeDXBhqpDhw5eVFSU7TBERHLK3Llz17l7tT/wzLlEUFRUxJw5c2qfUUREKpnZ54na1DUkIhJxSgQiIhGnRCAiEnE5N0ZQnV27dlFSUsL27duzHUrktGjRgi5dutC0adNshyIi9ZQXiaCkpIQ2bdpQVFRE/S4ZL/Xh7qxfv56SkhK6d++e7XBEpJ7yIhFs375dSSALzIz27duzdm0ypXYlF0z/sJS7ZnzK6o1ldG5bwOTTejK6f2G2w5I0y4tEACgJZIle9/wx/cNSbpq2gLJd5QCUbizjpmlBET0lg/ymwWIRAeCuGZ9WJoEKZbvKuWvGp1mKSDJFiSBFWrfeW4jr5Zdf5sgjj+Tzz/f9/UbsfKkyd+5c+vTpQ48ePZg0aRLVXVr86aefpm/fvvTp04chQ4bw0Ud7a3Pfc8899O7dm2OOOYbzzz+/ctD9jTfeYMCAAfTr148TTjiBzz77LOWxS8OxemNZnaZL/lAiSLE33niDSZMm8corr9CtW7eMrPOKK67gkUceYenSpSxdupRXX311n3m6d+/OW2+9xYIFC/j5z3/OxIkTASgtLeW+++5jzpw5fPLJJ5SXlzN16tTK5T799NPMnz+fCy64gF/96lcZ2R7Jjs5tC+o0XfKHEkEKvf3221x66aW89NJLHHFEUN51+fLlHH/88fTp04ef/exnKV/nF198webNmxk8eDBmxvjx45k+ffo+8w0ZMoR27doBMHjwYEpKKsv2snv3bsrKyti9ezfbtm2jc+fOQND/v3nzZgA2bdpUOV3y0+TTelLQtHGVaQVNGzP5tJ5ZikgyJW8Gi7Ntx44djB49mlmzZnHUUUdVTr/mmmu44oorGD9+PA888EDC5w8bNowtW7bsM/3uu+9m5MiRCZ9XWlpKly5dKh936dKF0tLSGmP97W9/yxlnnAFAYWEhN9xwA127dqWgoIBTTz2VU089FYBHH32UM888k4KCAg444ABmz55d43Ilt1UMCOusoQjKdq3Mut6OO+44j7do0aJ9pmVaQUGBn3XWWT5p0qQq0w866CDfuXOnu7tv2rTJW7VqldL1fvDBBz5ixIjKx2+//bafddZZCed/8803/aijjvJ169a5u/uGDRv85JNP9jVr1vjOnTv9nHPO8aeeesrd3b/73e/67Nmz3d39zjvv9IsvvrjaZTaE119EagbM8QT7VXUNpUijRo149tlnef/997ntttuqtCVziuWwYcPo16/fPrfXX3+9ynzl5eWVbb/4xS8oLCys0s1TUlJCYWH13+A+/vhjLrnkEl544QXat28PwOuvv0737t3p2LEjTZs2ZcyYMbz33nusXbuWjz76iEGDBgFw3nnn8d5779XpNRGR3KCuoRRq2bIlf/nLXxg2bBiHHHIIF198MUOHDmXq1KlceOGFPP300wmf+8477yS1jsaNGzN//vwq0yq6bQYNGsSTTz7J1Vdfvc/zVq5cyZgxY3jqqac48sgjK6d37dqV2bNns23bNgoKCnjjjTcoLi6mXbt2bNq0iSVLlnDkkUfy2muvcfTRRyf3QohITlEiSLGDDjqIV199lRNPPJGOHTty7733csEFF3DHHXdwzjnnpGWdDz74IBMmTKCsrIwzzjijsv//oYceAuDyyy/n1ltvZf369Vx55ZUANGnShDlz5jBo0CDOPfdcBgwYQJMmTejfvz8TJ06kSZMmPPLII4wdO5ZGjRrRrl07HnvssbTELyLZZV7NOecNWXFxsccXplm8eLG+rWaRXn+Rhs/M5rp7cXVtGiMQEYk4JQIRkYhTIhARiTglAhGRiNNZQyIiDVy660QoEYiINGCZqBOhrqE0mD17NpMmTeL000/n73//+34v79e//jU9evSgZ8+ezJgxo9p5pkyZQo8ePTAz1q1bt0/7Bx98QJMmTXjuuecqp61cuZJTTz2Vo48+ml69erFixYr9jlVEUisTdSJ0RJBi7s7AgQMZPHgwU6ZMYfXq1fu1vEWLFjF16lQWLlzI6tWrGTlyJEuWLKFx46pXiRw6dChnn302w4cP32cZ5eXl/OQnP6m8mFyF8ePH89Of/pRTTjmFrVu30qiRvheINDSZqBOh//wUWLFiBT179mT8+PEcc8wxrFq1iqlTp7J161bGjh27X8t+4YUXGDduHM2bN6d79+706NGD999/f5/5+vfvT1FRUbXLuP/++xk7diwHH3xw5bRFixaxe/duTjnlFCAomNOyZcv9ilVEUi8TdSLy74jglRvhywWpXeahfeCM22ucZenSpTzxxBMMHjyYF198kRtvvJGRI0cybdo0xowZU2Xe6667jpkzZ+6zjHHjxnHjjTdWmVZaWsrgwYMrHydzmen45z///PPMnDmTDz74oHL6kiVLaNu2LWPGjGH58uWMHDmS22+/fZ8jDRHJrsmn9awyRgCprxORf4kgS7p161a5wx41ahSjRo1KOO8999yTqbC49tprueOOO/bp9tm9ezfvvPMOH374IV27duW8887j8ccf5+KLL85YbCJSu0zUici/RFDLN/d0adWqVdLz1uWIoLCwkFWrVlU+ruky09WZM2cO48aNA2DdunW8/PLLNGnShC5dutCvXz8OP/xwAEaPHs3s2bOVCEQaoNH9C9NaICj/EkEOqMsRwahRo7jgggu4/vrrWb16NUuXLmXgwIFJP3/58uWV9ydMmMDZZ5/N6NGjKS8vZ+PGjaxdu5aOHTvy5ptvUlxc7fWoRCTPabC4gevduzff+9736NWrF6effjoPPPBAZT/+mWeeWXlW0n333UeXLl0oKSmhb9++XHLJJTUut3Hjxtx9992MGDGCPn364O5ceumlad8eEamjHVth6Wsw46fwz5fTsgpdhlr2m15/kRQq3w2r58GyWcFt1fuwZxc0bg4nTYYTJ9drsTVdhlpdQyIi2eQO65bs3fGveBd2bAYMOh0Lx/8IDh8OXQdD09SdMhorrYnAzK4DLgEcWAD8wN23x7RPAO4CKs6HnOLuj6YzJhGRrNv8BSx/a+/Of8sXwfR23eGYscGOv/uJ0PKgjISTtkRgZoXAJKCXu5eZ2bPAOODxuFn/6O5X7e/63D2pIvGSWrnWtSiSFds3w+d/27vjX/vPYHrL9tD9pGDHf/hJ0K4oK+Glu2uoCVBgZruAlsD+XW8hgRYtWrB+/Xrat2+vZJBB7s769etp0aJFtkMRaVjKd0HJnL07/pIPwMuhSQF0Ox76fT/Y+R9yDDSAS7ukLRG4e6mZ3Q2sBMqAv7r7X6uZdayZnQgsAa5z91XxM5jZRGAiQNeuXfdZQMXZMmvXrk3lJkgSWrRoQZcuXbIdhkh2ucOaxXt3/J//DXZuBWsEnfvDCdcGO/4uA6Fpw/vilLazhsysHfC/wHnARuBPwHPu/vuYedoDW919h5ldBpzn7t+pabnVnTUkIpJxm0pgWUw//zdrgunte4RdPcOh6AQoaJe9GGNk66yhkcByd18bBjENGAJUJgJ3Xx8z/6PAnWmMR0Sk/so2Bmf0VOz41y8NprfquHfH3/0kaHtY1kKsr3QmgpXAYDNrSdA1NAKo8lXezDq5ezhczihgcRrjERFJ3u4dwTn8FTv+1fPA90DTVlA0FIp/EOz8D+4FOT42mc4xgn+Y2XPAPGA38CHwsJndCsxx9xeBSWY2KmzfAExIVzwiIjXaswe++iSmn/892F0G1hgKj4NhN8ARJ0NhMTRplu1oUyovflksIlIvG1fu3fEvewu2hdX9OvSM6ecfCi0OzF6MKaJfFouIAGzbACve2bvz37AsmN76UOgxcu/5/Ad0zmKQmadEICL5a9d2WDU7pp9/PuDQrE1wRs/Ay4Kdf8eeOd/Pvz+UCEQkf+wphy8/3rvjXzkbdm+HRk2Cc/iH3xTs+AsHQOOmWQ624YhEIpj+YWlaq/uISBZtWLZ3x7/8bSj7Oph+cG8ovjjY8XcbAs1bZzHIhi3vE8H0D0ur1Pss3VjGTdOCmsZKBiI56Jt1VS/YtnFlMP2AQuh51t4LtrU5JItB5pa8TwR3zfi0StFngLJd5dw141MlApFcsHMbrPx7uOOfCV8GX+RofiB0HwZDJgU7//Y9It3Pvz/yPhGs3lhWp+kikmV7yoNB3WUzw8Is/4DyndCoaXBN/u/8DA4/GTr1g8Z5vwvLiLx/FTu3LaC0mp1+57bpKfAgInXkDuv/tXfHv+Id2L4paDu0DwwKz+zpejw0a5XNSPNW3ieCyaf1rDJGAFDQtDGTT+uZxahEIm7rmqoXbNtcEkw/sCv0OmfvdXtadchikNGR94mgYhxAZw2JZNGOrcElGyp2/GsWBtNbtA0Gdk/8j2Dn3667+vmzIO8TAQTJQDt+kQyKLcD+r5lQ8j7s2R0UYO86GEb8MtjxdzoWGjXOdrSRF4lEICJpFl+Affk7sHMLewuwX5X2AuxSf0oEIlI/NRVg73NuxguwS/0pEYhIchp4AXapPyUCEane7p1QGluAfU5MAfYhDa4Au9SfEoGIBNxhzaK9O/4Vf4Nd34QF2AfACdcFO/7DBkKT5lkOVlJJiUAkyioLsM8M/lYUYD/oCOh3foMrwC7poUQgEiV5XIBd6k+JQCSfRagAu9SfEoFIPqmpAHuXYjhxcliYJf8KsEv9KRGI5LqvP4/5IddbsG19ML1DTzjuorAwy1BocUAWg5SGTIlAJNdUFGD/V3i1zq+XB9NbHwo9TolsAXapPyUCkYautgLsgy5XAXbZL0oEIg2NCrBLhikRiGSbe9C9owLskiVKBCLZoALs0oAoEYhkggqwSwOmRCCSDirALjlEn0CRVFABdslhSgQi9aUC7JInlAhEklVTAfbDT4LDVYBdcpMSgUgiNRVg73Y89L0l2PEf2lcF2CWnKRGIVFABdokoJQKJNhVgF1EikIhRAXaRfSgRSH5TAXaRWikRSH5xhzWLYwqwv6sC7CK1UCKQ3FdZgH1WcKsowN6+hwqwiyQhrYnAzK4DLgEcWAD8wN23x7Q3B54EjgPWA+e5+4p0xiR5QAXYRVIqbYnAzAqBSUAvdy8zs2eBccDjMbNdDHzt7j3MbBxwB3BeumKSHKUC7CJple6uoSZAgZntAloCq+PazwFuCe8/B0wxM3N3T3Nc0pCpALtIRqUtEbh7qZndDawEyoC/uvtf42YrBFaF8+82s01Ae2Bd7ExmNhGYCNC1a9d0hSzZpALsIlmTzq6hdgTf+LsDG4E/mdmF7v77ui7L3R8GHgYoLi7W0UI+qCjAXnH5BhVgF8madHYNjQSWu/taADObBgwBYhNBKXAYUGJmTYADCQaNJd/UWIB9qAqwi2RROhPBSmCwmbUk6BoaAcyJm+dF4CLg78C5wJsaH8gTKsAukjPSOUbwDzN7DpgH7AY+BB42s1uBOe7+IvBb4Ckz+wzYQHBWkeQiFWAXyVmWa1/Ai4uLfc6c+AMLyYpv1sPyWdUXYD/8ZBVgF2lAzGyuuxdX15b0EUE4+NuZoJtnhbvvSVF8kiuqFGCfFXT9gAqwi+S4GhOBmR0I/Ag4H2gGrAVaAIeY2WzgQXefmfYoJTtUgF0kEmr7732O4BIQw9x9Y2yDmRUDF5rZ4e7+2zTFJ5mkAuwikVRjInD3U2pom8O+ZwFJrlEBdpHIS+p43szecPcRtU2THLBja9V+/q8+Caa3aBsM7J6oAuwiUVPbGEELgmsEdQgHiyv2DAcQXB5CGrrYAuzLZgUXb9uzKyjA3nUwjPhlsOPvdKwKsItEVG1HBJcB1xKcLTSXvYlgMzAlfWFJvcUXYF/xLuzYzN4C7D9SAXYRqaK2MYJ7gXvN7Gp3vz9DMUld1VSA/ZixKsAuIjVKaozA3e83syFAUexz3P3JNMUlNVEBdhFJoWQHi58CjgDmA+XhZCc4tVTSrXxXUHS9sgD7BzEF2I9XAXYR2S/J/gqomKDSWG5djyJXxRdg//xvsHNrWIC9P5xwbbDj7zIQmrbIbqwikvOSTQSfAIcCX6QxlmjbVLp3xx9fgP3YcSrALiJpU9vpo38m6AJqAywys/eBHRXt7j4qveHlMRVgF5EGorYjgrszEkUUJCzA3jIowXjchLCfv7d+yCUiGVXb6aNvZSqQvLNnD6xZWLUA+65tQQH2wuNg2A1hP/+3VYBdRLIq2bOGthB0EcXaRHCtof9w92WpDiwnbVwZ08//FmxbF0zv0BP6/3vYzz8UWhyYxSBFRKpKdrD4N0AJ8AzBr4vHEZxOOg94DBiehtgavtgC7MtmwYYwH7Y+FHqMVAF2EckJySaCUe5+bMzjh81svrv/xMxuTkdgDVLCAuytoWgYDLxMBdhFJOckmwi2mdn3COoTQFBofnt4P39/W7BnD3z5UYIC7N+G4TeGBdiPUwF2EclZySaC7wP3Ag8S7PhnExSlKQCuSlNs2bEhtgD7WzEF2HtB8Q9jCrC3yWKQIiKpk+y1hpYB/5ag+d3UhZMF36yvesG2jZ8H09t0hp5nxhRgPzSLQYqIpE9tPyj7sbvfaWb3U00XkLtPSltk6ZKwAPsBwQ5/yNUqwC4ikVLbEcHi8G91JSlza2xgxd9g1q9VgF1EJE5tPyj7c/j3ifg2M8utXx2bBZd1GDgx2PF3UwF2ERFIfrC4Ot8DbkhVIGnXbQhckdvDGSIi6bA/F69XB7qISB6obbA4UW1DQ4lARCQv1NY1NJdgULi6nf7O1IcjIiKZVttgcfdMBSIiItlR4xiBmRXV0m5m1iWlEYmISEbV1jV0l5k1Al4g6CZaC7QAegAnAyOAXxJcmVRERHJQbV1D/8fMehFca+iHQCegjOCHZn8B/q+7b69hESIi0sDV+jsCd18E/DQDsYiISBYk/YMyMxsCFMU+x92fTENMIiKSQcmWqnyKoCLZfKA8nOyAEoGISI5L9oigGOjl7rl1oTkREalVspeY+ATQBflFRPJQskcEHYBFZvY+sKNioruPSktUIiKSMckmglvqumAz6wn8MWbS4cAv3P03MfMMJ/iNwvJw0jR3v7Wu6xIRkfpLtlTlW3VdsLt/CvQDMLPGQCnwfDWzvuPuZ9d1+SIikhq1XX10C9VXIjPA3f2AJNczAviXu39ex/hERCTNavtlcZsUrWcc8IcEbceb2UfAauAGd18YP4OZTQQmAnTt2jVFIYmICOxfYZqkmFkzYBTwp2qa5wHd3P1Y4H5genXLcPeH3b3Y3Ys7duyYtlhFRKIo7YkAOAOY5+5fxTe4+2Z33xrefxloamYdMhCTiIiEMpEIzidBt5CZHWpmFt4fGMazPgMxiYhIaH+K19fKzFoBpwCXxUy7HMDdHwLOBa4ws90EVzUdp18vi4hkVloTgbt/A7SPm/ZQzP0pwJR0xiAiIjXLRNeQiIg0YEoEIiIRp0QgIhJxSgQiIhGnRCAiEnFKBCIiEadEICIScUoEIiIRp0QgIhJxSgQiIhGnRCAiEnFKBCIiEadEICIScUoEIiIRp0QgIhJxSgQiIhGnRCAiEnFKBCIiEadEICIScUoEIiIRp0QgIhJxSgQiIhGnRCAiEnFKBCIiEadEICIScUoEIiIRp0QgIhJxSgQiIhGnRCAiEnFKBCIiEadEICIScUoEIiIRp0QgIhJxSgQiIhGnRCAiEnFKBCIiEadEICIScUoEIiIRl7ZEYGY9zWx+zG2zmV0bN4+Z2X1m9pmZfWxmA9IVj4iIVK9Juhbs7p8C/QDMrDFQCjwfN9sZwLfC2yDgf8K/IiKSIZnqGhoB/MvdP4+bfg7wpAdmA23NrFOGYhIRETKXCMYBf6hmeiGwKuZxSTitCjObaGZzzGzO2rVr0xSiiEg0pT0RmFkzYBTwp/ouw90fdvdidy/u2LFj6oITEZGMHBGcAcxz96+qaSsFDot53CWcJiIiGZKJRHA+1XcLAbwIjA/PHhoMbHL3LzIQk4iIhNJ21hCAmbUCTgEui5l2OYC7PwS8DJwJfAZsA36QznhERGRfaU0E7v4N0D5u2kMx9x34UTpjEBGRmumXxSIiEadEICIScUoEIiIRp0QgIhJxSgQiIhGnRCAiEnFKBCIiEadEICIScUoEIiIRp0QgIhJxSgQiIhGnRCAiEnFKBCIiEadEICIScUoEIiIRp0QgIhJxSgQiIhGnRCAiEnFKBCIiEadEICIScWktXi9Sk+kflnLXjE9ZvbGMzm0LmHxaT0b3L8x2WCKRo0QgWTH9w1JumraAsl3lAJRuLOOmaQsAlAxEMkxdQ5IVd834tDIJVCjbVc5dMz7NUkQi0aVEIFmxemNZnaaLSPooEUhWdG5bUKfpIpI+SgSSFZNP60lB08ZVphU0bczk03pmKSKR6NJgsWRFxYCwzhoSyT4lAsma0f0LteMXaQDUNSQiEnFKBCIiEadEICIScUoEIiIRp0QgIhJx5u7ZjqFOzGwt8Hk9n94BWJfCcLJJ29Iw5cu25Mt2gLalQjd371hdQ84lgv1hZnPcvTjbcaSCtqVhypdtyZftAG1LMtQ1JCIScUoEIiIRF7VE8HC2A0ghbUvDlC/bki/bAdqWWkVqjEBERPYVtSMCERGJo0QgIhJxeZkIzOwxM1tjZp8kaDczu8/MPjOzj81sQKZjTEYS2zHczDaZ2fzw9otMx5gsMzvMzGaa2SIzW2hm11QzT4N/X5Lcjpx4X8yshZm9b2Yfhdvyn9XM09zM/hi+J/8ws6IshFqrJLdlgpmtjXlfLslGrMkws8Zm9qGZvVRNW+rfE3fPuxtwIjAA+CRB+5nAK4ABg4F/ZDvmem7HcOClbMeZ5LZ0AgaE99sAS4Beufa+JLkdOfG+hK9z6/B+U+AfwOC4ea4EHgrvjwP+mO2492NbJgBTsh1rkttzPfBMdZ+jdLwneXlE4O5vAxtqmOUc4EkPzAbamlmnzESXvCS2I2e4+xfuPi+8vwVYDMQXI2jw70uS25ETwtd5a/iwaXiLP3vkHOCJ8P5zwAgzswyFmLQktyUnmFkX4Czg0QSzpPw9yctEkIRCYFXM4xJy9J8ZOD48HH7FzHpnO5hkhIey/Qm+tcXKqfelhu2AHHlfwi6I+cAa4DV3T/ieuPtuYBPQPqNBJimJbQEYG3Y7Pmdmh2U2wqT9BvgxsCdBe8rfk6gmgnwxj+D6IccC9wPTsxtO7cysNfC/wLXuvjnb8dRXLduRM++Lu5e7ez+gCzDQzI7Jckj1lsS2/Bkocve+wGvs/VbdYJjZ2cAad5+byfVGNRGUArHfBrqE03KKu2+uOBx295eBpmbWIcthJWRmTQl2nk+7+7RqZsmJ96W27ci19wXA3TcCM4HT45oq3xMzawIcCKzPaHB1lGhb3H29u+8IHz4KHJfh0JIxFBhlZiuAqcB3zOz3cfOk/D2JaiJ4ERgfnqUyGNjk7l9kO6i6MrNDK/oGzWwgwfvZIP9Jwzh/Cyx29/9OMFuDf1+S2Y5ceV/MrKOZtQ3vFwCnAP+Mm+1F4KLw/rnAmx6OUjYkyWxL3HjTKILxnQbF3W9y9y7uXkQwEPymu18YN1vK35O8LF5vZn8gOHOjg5mVAL8kGDzC3R8CXiY4Q+UzYBvwg+xEWrMktuNc4Aoz2w2UAeMa4j9paCjw78CCsB8X4GagK+TU+5LMduTK+9IJeMLMGhMkq2fd/SUzuxWY4+4vEiS9p8zsM4ITF8ZlL9waJbMtk8xsFLCbYFsmZC3aOkr3e6JLTIiIRFxUu4ZERCSkRCAiEnFKBCIiEadEICIScUoEIiIRp0QgkWFm5eFVJxeGl3/4DzOr9/+Amd0cc7/IElwltprnXWtm4+uwnmZm9nb44yGRlFMikCgpc/d+7t6b4AdHZxD8NqO+bq59lqrCnfkPCa4smRR33wm8AZxX1/WJJEOJQCLJ3dcAE4Grwl8yNzazu8zsg/CiZJdBZW2Bt83sL2b2qZk9ZGaNzOx2oCA8wng6XGxjM3skPOL4a/gL13jfAeaFFwvDzGaZ2T1mNsfMFpvZt81smpktNbNfxTxvOvD9tL0gEmlKBBJZ7r4MaAwcDFxMcEmLbwPfBi41s+7hrAOBq4FewBHAGHe/kb1HGBU76G8BD4RHHBuBsdWsdigQf0Gxne5eDDwEvAD8CDgGmGBmFVeV/CSMSyTllAhEAqcSXOdoPsFlpdsT7NgB3nf3Ze5eDvwBOCHBMpa7+/zw/lygqJp5OgFr46a9GP5dACwMax7sAJYRXlwsXPdOM2tTx+0SqZUGnySyzOxwoJzg+vUGXO3uM+LmGc6+BU4SXZdlR8z9cqC6rqEyoEWC5+2JW8Yeqv6PNge2J1i3SL3piEAiycw6EnTFTAkvCDeD4EJxTcP2I82sVTj7QDPrHp5hdB7wbjh9V8X8dbAY6FGPeNsD69x9V12fK1IbHRFIlBSEXT9NCa5A+RRQcSnpRwm6cuaFl5BeC4wO2z4AphDswGcCz4fTHwY+NrN5wE+TjOGVcL11dTLwl3o8T6RWuvqoSA3CrqEb3P3sFC7zeeDH7r60Ds+ZBtzo7ktSFYdIBXUNiWTejQSDxkkxs2bAdCUBSRcdEYiIRJyOCEREIk6JQEQk4pQIREQiTolARCTilAhERCLu/wOuqie4CCVemAAAAABJRU5ErkJggg==
",
                  "text/plain":[
                     "<Figure size 432x288 with 1 Axes>"
                  ]
               },
               "metadata":{
                  "needs_background":"light"
               }
            },
            {
               "output_type":"display_data",
               "data":{
                  "image/png":"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
",
                  "text/plain":[
                     "<Figure size 432x288 with 1 Axes>"
                  ]
               },
               "metadata":{
                  "needs_background":"light"
               }
            },
            {
               "output_type":"display_data",
               "data":{
                  "image/png":"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
",
                  "text/plain":[
                     "<Figure size 432x288 with 1 Axes>"
                  ]
               },
               "metadata":{
                  "needs_background":"light"
               }
            },
            {
               "output_type":"display_data",
               "data":{
                  "image/png":"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
",
                  "text/plain":[
                     "<Figure size 432x288 with 1 Axes>"
                  ]
               },
               "metadata":{
                  "needs_background":"light"
               }
            },
            {
               "output_type":"display_data",
               "data":{
                  "image/png":"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
",
                  "text/plain":[
                     "<Figure size 432x288 with 1 Axes>"
                  ]
               },
               "metadata":{
                  "needs_background":"light"
               }
            },
            {
               "output_type":"display_data",
               "data":{
                  "image/png":"iVBORw0KGgoAAAANSUhEUgAAAYIAAAEWCAYAAABrDZDcAAAAOXRFWHRTb2Z0d2FyZQBNYXRwbG90bGliIHZlcnNpb24zLjUuMSwgaHR0cHM6Ly9tYXRwbG90bGliLm9yZy/YYfK9AAAACXBIWXMAAAsTAAALEwEAmpwYAAAwX0lEQVR4nO3dd3wUdf7H8dcHAiQUpaoQpAiCSMeIAcSKKOohIioKIjZsCOrpHer97jy9s9+pKIoKdhQ9RPBQQEWKBcHQQewNgoVDaVIE/Pz+mAlsQsomZLNJ9v18PPbBZuY7M5/Jhn3vd76zM+buiIhI4qoQ7wJERCS+FAQiIglOQSAikuAUBCIiCU5BICKS4BQEIiIJTkFQypnZN2bWowS3N9XMLiyp7YlI/CkISljON3Yz629mv5jZscW8nSZm5maWlE+bW83s+chp7t7L3Z8pzlqiYWanmdl7ZrbezH4wszFmViNifhUze9LMNobzr4+Yl25mb5nZz2a21sz+Y2b1I+bfaGbLzWyTmX1tZjcWUIuZ2d1mti583G1mFjH/cTP71Mx+N7PBUexbBzNbYGZbwn875NKmspmtNLPV+aynsplNCP+G3MyOK0zduazPzexXM9scPsZEzKtiZqPN7Mfw9/pfM0vNZ121zezVcH3fmtn5OeafH07/1cwmmVntvNZVEtsoiXrLEgVBHIWfvEcBp7n77HjXE2f7A/8AGgCtgFTg3oj5twKHAo2B44E/mdkp4bxawONAk3D+JuCpiGUNGBS2OwUYamb986llCNAHaA+0A/4AXB4xfwlwFbCwoJ0ys8rAZOD5cPvPAJPD6ZFuBNYWtD7gPWAg8EMR6s5Ne3evHj4ujZg+HOgSrqcB8AvwUD7rGQX8BhwIDAAeNbPWAOG/jwEXhPO3AI/ktpLww8mtsdxGDNZV9rm7HiX4AL4BehD8B/0fkJZj/gXAt8A64Jas9nms6zRgEbARWAXcGjHvO8CBzeGjS45lTyH4j7AjnL8knD4LuDR8Phh4H7gfWA98BXQNp68CfgIujFhnFeC+cNs/AqOBlCL+nvoCyyJ+XgP0jPj5dmB8Hst2Ajbls+6RwEP5zP8AGBLx8yXAh7m0ew8YXMB+9AQyAcvx2pwS8XNTYCXQC1gd5e9nNXBcUeqOmO9A8zzmPQrck+Nv7dM82lYL/5ZaREx7DrgrfH4H8ELEvGZh+xq5rOvWyL/jGG2j2NZVXh7qEcTHlcBtwInunpE10cwOJ/gPeAHBp7A6QMN81vMrwSfdmgT/Ua80sz7hvGPCf2t68GlvbuSC7j6N4A/+pXB++zy2cRSwNKzlBWA8cCTQnOCT6cNmVj1sexfQAugQzk8F/hqxf+vN7Oh89ifSMcCKcLlaQH2CT+JZlgCtC1o2p/BQSfe85odaF2JbBWkNLPXwHSW0NMf6HgJuBrYWcRuR28qzbjNbmvMQCDAnPNQ20cyaREwfC3QzswZmVpXgU/PUiHU9YmZZn5JbADvd/bM8tp2tLnf/kvCNuBD7tk/biEO9ZYqCID5OAj4EluWY3g+Y4u5z3H078H/A73mtxN1nufsyd//d3ZcCLwLFOtYAfO3uT7n7LuAl4GDgNnff7u5vEvwHaR6+wQ4BrnP3n919E0HQ7D4E4+413f29gjZoZicBF7InRLKCZkNEsw1ADXIws3bhcnmNA9xK8Hf/VB7zs7aXc1vV8zveXoh1Za2vRljvmUBFd3+1COsuaFvZ6nb3du7+QsT8YwkOpx1G0OOaYnvGlD4n6PVlEvQ4WxF8eCFc11XuflXEdjfmqCXy9cn3d1CIfSvyNuJQb5miIIiPKwk+XYzJ8ebSgOA/HwDu/ivBIaJcmdlRZjbTggHSDcAVQN1irvXHiOdbw7pyTqsO1AOqAgvCT/7rgWnh9KiZWTpBz6NfxCe2zeG/+0U03Y9gLCBy2eYEn1qHu/u7uax7KEEP6rQwaDGzmyMGS0dHbC/ntjbn+FSfV/2bIx6NclnX7trNrBpwDzCsoPVGqVB1hx84fnP39QRjAk0J3vAhOIZehaAnWA2YSESPoIDtZm17UzTzzWxKxN/MCGBE1s9mNqU4tlGc9ZZHCoL4+BE4keAQReQg1PcEn7gBCLvkdfJZzwvAa8DB7r4/wTH5rGCJ5rKyxXnp2f8RhELr8JN/TXff392rF7RgFjPrSLA/F7v7jN1Fuv9C8LuJPHzVnojDO2bWGHgbuN3dn8tl3RcTvMmc6O67z8xx9zt8z2DpFeHkFfltKz8R66ru7t+Fy7XLEfjtwumHEnwif9fMfiB4s60fHqppEs32cihy3Vnls+fvpwPwdNi7205w+KqzmeX2QeMzIMnMDs1j29nqMrNDCELmMwB3Pz3rb4bg8OJdEX9DpxfHNoqz3nIp3oMUifYgYvAXaAR8Ddwf/tya4NPI0UBlgoHXneQ9WLx7sBboHP78fPhzVWAXEQNiuSx/BcGAZ4WIabPIPlj8XsS85sGfTLZ1rAaODp8/CLwMHBD+nAqcHOXvpQ1BQJ6bx/y7gNkEZ94cRhAMp0Rs50vghjyWHUBwlk2rKGu5gmDwNpWgl7YCuCJifmUgmWAg/bLweYU81lWZYPB/OMGbydDw58pAEnBQxKMvwSGagwgOF+W2virh9lYTDEQnEw5EF1R3jvW0Jnizr0jQo3sA+BSoFM5/CniF4GyuSgRjGJn5/M7GExyarAZ0IziU0jpiWxsJPvhUIziDKq+B/lvJZbC4OLdR3OsqD4+4F5BoD3KcBUTQHV8F3Bn+fCHBWSXRnDXUL3xT2QRMAR4mDIJw/m0EpySuB9JzWb4OQRD8AiwMp82i6EGQTDAu8FX4H2klMCyi7Wagex778hTBeMjmiMeKiPlVgCfD9f4IXB8x729kP0NqM8Ehkaz5X7Pn7Kisx+h8XiMjOGTzc/i4h+xn/cwKtxf5OC6f9XUEFhD0mBYCHfNodxwFnDUU/j3k3HaTKOteAQwIn59A8Mb/K8EHiEnAoTn+NsaF89aHfyedI+aPjvwdArXDdfxK8Pd7fo66zw+n/0pwOm3tPPbvVvIOgiJvI1b1lpdH1icJERFJUBojEBFJcAoCEZEEpyAQEUlwCgIRkQSX55UpS6u6det6kyZN4l2GiEiZsmDBgv+5e65f8CxzQdCkSRMyMjIKbigiIruZ2bd5zdOhIRGRBKcgEBFJcAoCEZEEV+bGCESk7NmxYwerV69m27Zt8S6l3EtOTqZhw4ZUqlQp6mViGgRmNpzgolwGPOHuD+SYfxjBNWY6Abe4+32xrEdE4mP16tXUqFGDJk2aULTbOkg03J1169axevVqmjZtGvVyMQsCM2tDEAKdCW5eMs3Mprj7FxHNfia4FnufWNUBMGlRJvdO/5Q167fSoGYKN57ckj4d87wPt4gUs23btikESoCZUadOHdaujeb213vEcoygFTDP3be4+06CSwj3jWzg7j+5+0cEV4aMiUmLMrlp4jIy12/Fgcz1W7lp4jImLcqM1SZFJBcKgZJRlN9zLINgOdDdzOqEN1g5lYibrhSGmQ0xswwzyyhs0t07/VO27tiVbdrWHbu4d/qnRSlFRKTciVkQuPtK4G7gTYJbFi4muFFKUdb1uLunuXtavXqFuvMha9bnfj/wvKaLSPlUvfqem+W98cYbtGjRgm+/3fs7VpHtimr79u2ce+65NG/enKOOOopvvvkm13YXX3wxBxxwAG3atMk2/cYbb+Swww6jXbt2nHnmmaxfvx6AdevWcfzxx1O9enWGDh26z3Vmienpo+4+1t2PcPdjCG5+UuK3emtQM6VQ00WkfJsxYwbDhg1j6tSpNG7cOCbbGDt2LLVq1eKLL77guuuu489//nOu7QYPHsy0adP2mn7SSSexfPlyli5dSosWLbjzzjuB4Iyg22+/nfvuK97zamIaBGZ2QPhvI4LxgRdiub3c3HhyS1IqVcw2LaVSRW48uWVJlyIicTZnzhwuu+wypkyZQrNmzQD4+uuv6dKlC23btuUvf/lLsWxn8uTJXHjhhQD069ePGTNmkNtNwI455hhq16691/SePXuSlBScy5Oens7q1cFttqtVq8bRRx9NcnJysdSZJdbfI3jFzOoQDAZf7e7rzewKAHcfbWYHARnAfsDvZnYtcLi7byyuArLODtJZQyKJbfv27fTp04dZs2Zx2GGH7Z4+fPhwrrzySgYNGsSoUaPyXL579+5s2rRpr+n33XcfPXr0yDYtMzOTgw8OhkSTkpLYf//9WbduHXXr1i103U8++STnnntuoZcrjJgGgbt3z2Xa6IjnPwANY1kDBGGgN36RxFapUiW6du3K2LFjefDBB3dPf//993nllVcAuOCCC/I8jPPuu++WSJ2R/vnPf5KUlMSAAQNiuh1dYkJEEkKFChV4+eWXmT9/PnfccUe2edGcctm9e3c6dOiw1+Ptt9/eq21qaiqrVq0CYOfOnWzYsIE6deoUqt6nn36aKVOmMG7cuJifeqtLTIhIwqhatSqvv/463bt358ADD+SSSy6hW7dujB8/noEDBzJu3Lg8ly1Mj6B3794888wzdOnShQkTJnDCCScU6s182rRp3HPPPcyePZuqVatGvVyRuXuZehxxxBEuImXLxx9/HO8SvFq1aruff/fdd96kSROfPHmyf/XVV56enu5t2rTxW265JVu7otq6dav369fPmzVr5kceeaR/+eWX7u6emZnpvXr12t2uf//+ftBBB3lSUpKnpqb6mDFj3N29WbNm3rBhQ2/fvr23b9/eL7/88t3LNG7c2GvVquXVqlXz1NRUX7FixV7bz+33DWR4Hu+r5rmMZJdmaWlprhvTiJQtK1eupFWrVvEuI2Hk9vs2swXunpZbe40RiIgkOAWBiEiCUxCIiCQ4BYGISIJTEIiIJDgFgYhIglMQiEjC+fDDDxk2bBinnHIKc+fO3ef13XnnnTRv3pyWLVsyffr0XNu4O7fccgstWrSgVatWjBw5EoBx48bRrl072rZtS9euXVmyZMnuZe6//35at25NmzZtOO+882J2z2d9s1hEEoq707lzZ9LT03n44YdZs2bNPq3v448/Zvz48axYsYI1a9bQo0cPPvvsMypWzH7V46effppVq1bxySefUKFCBX766ScAmjZtyuzZs6lVqxZTp05lyJAhzJs3j8zMTEaOHMnHH39MSkoK55xzDuPHj2fw4MH7VG9u1CMQkXLvm2++oWXLlgwaNIg2bdqwatUqxo8fz+bNmznrrLP2ad2TJ0+mf//+VKlShaZNm9K8eXPmz5+/V7tHH32Uv/71r1SoELztHnDAAQB07dqVWrVqAdkvOQ3BdYq2bt3Kzp072bJlCw0aNNinWvOiHoGIlKypI+CHZcW7zoPaQq+78m3y+eef88wzz5Cens5rr73GiBEj6NGjBxMnTqRv32y3U+e6665j5syZe62jf//+jBgxItu0zMxM0tPTd//csGFDMjP3vif6l19+yUsvvcSrr75KvXr1GDlyJIceemi2NmPHjqVXr15AcOG6G264gUaNGpGSkkLPnj3p2bNn/r+HIlIQiEhCaNy48e437N69e9O7d+88295///3Fvv3t27eTnJxMRkYGEydO5OKLL852IbuZM2cyduxY3nvvPQB++eUXJk+ezNdff03NmjU5++yzef755xk4cGCx16YgEJGSVcAn91ipVq1a1G0L0yOIvOQ0wOrVq0lN3fv+Jw0bNtzd8zjzzDO56KKLds9bunQpl156KVOnTt19ueq3336bpk2bknWf9r59+/LBBx8oCERESkJhegS9e/fm/PPP5/rrr2fNmjV8/vnndO7cea92ffr0YebMmbsHh1u0aAHAd999R9++fXnuued2TwNo1KgRH374IVu2bCElJYUZM2aQlpbrNeP2mYJARGQftG7dmnPOOYfDDz+cpKQkRo0atfuMoVNPPZUxY8bQoEEDRowYwYABA7j//vupXr06Y8aMAeC2225j3bp1XHXVVUBwa8uMjAyOOuoo+vXrR6dOnUhKSqJjx44MGTIkJvugy1CLSMzpMtQlS5ehFhGRQlEQiIgkOAWBiJSIsnYYuqwqyu9ZQSAiMZecnMy6desUBjHm7qxbt47k5ORCLaezhkQk5ho2bMjq1atZu3ZtvEsp95KTk2nYsGGhllEQiEjMVapUiaZNm8a7DMmDDg2JiCQ4BYGISIJTEIiIJDgFgYhIglMQiIgkOAWBiEiCUxCIiCQ4BYGISIKLaRCY2XAzW25mK8zs2lzmm5mNNLMvzGypmXWKZT0iIrK3mAWBmbUBLgM6A+2B082seY5mvYBDw8cQ4NFY1SMiIrmLZY+gFTDP3be4+05gNtA3R5szgGc98CFQ08zqx7AmERHJIZZBsBzobmZ1zKwqcCpwcI42qcCqiJ9Xh9OyMbMhZpZhZhm6aJWISPGKWRC4+0rgbuBNYBqwGNhVxHU97u5p7p5Wr1694itSRERiO1js7mPd/Qh3Pwb4BfgsR5NMsvcSGobTRESkhMT6rKEDwn8bEYwPvJCjyWvAoPDsoXRgg7t/H8uaREQku1jfj+AVM6sD7ACudvf1ZnYFgLuPBt4gGDv4AtgCXBSzSjb/BB+MhC7XQI0DY7YZEZGyJqZB4O7dc5k2OuK5A1fHsobdvp4Dcx+B+U9A2iXQbbgCQUSERPpmcdt+MPQjaHMWzBsND7aDaTfBph/iXZmISFwlThAA1GkGfR6BazKgTT+Y9xg82B6mjlAgiEjCSqwgyFL7EOgzKgiEtv1g/uNhIPwZNmqsWkQSS2IGQZbah8AZo+CaBWEgPKFAEJGEk9hBkKV20z2B0O4c+GhMEAhv/Ak2rol3dSIiMaUgiFS7KZzxcBAI7c+FjLHwYAd440YFgoiUWwqC3NRqAr0fgmsWQvv+kPFk0EN4/QbYoC8+i0j5oiDIT63G0HtkEAgdzocFT8HIDvD6H2HD6nhXJyJSLBQE0ajVGP7wIAxbBB0GwIJnYGRHmHK9AkFEyjwFQWHUbAR/eCAIhI4DYeGzwRjClOtg/aqClhYRKZUUBEVR82A4/f4gEDoNgoXPBT2E/14L67+Ld3UiIoWiINgXNQ+G0/+9JxAWj4ORnRQIIlKmKAiKQ2QgHHFhRCAMVyCISKmnIChO+zeE0/4FwxbDEYNh8QvBIaPXhsEv38a7OhGRXCkIYmH/VDjtviAQ0i6GJS/CQ53gtWvgl2/iXZ2ISDYKgljaPxVOvReGLwnugbDkJXjoCJg8VIEgIqWGgqAk7NcATr0nCIQjL4WlL4eBcDX8/HW8qxORBKcgKEn71Yded4eBcBks/U8QCJOuhp+/ind1IpKgFATxsF996HVXEAidh8DyCfBQmgJBROJCQRBPkYFw1OURgXAVrPsy3tWJSIJQEJQGNQ6CU+6E4UvhqCtg+UR4+Eh49UoFgojEnIKgNKlxIJxyR9BDSL8SVrwKD6fBq1coEEQkZhQEpVGNA+Hkf8K1SyH9KlgxKQiEiZfD/76Id3UiUs4oCEqz6gfsCYQuV8PHk2HUkTBxCPzv83hXJyLlhIKgLKh+APT8B1y7DLoMhZX/hVGd4ZXLFAgiss8UBGVJ9XrQ8/ZgULnLUPhkyp5AWPtZvKsTkTJKQVAWZQXCtcug6zXwyethIFyqQBCRQlMQlGXV6sJJtwVjCN2GwydvBIEw4RJY+2m8qxORMkJBUB5Uqwsn/T3oIRx9LXw6FUYdBRMuhp8+iXd1IlLKKQjKk2p1oMetYSBcB59Nh0fS4T8XwU8r412diJRSCoLyqFod6PG3IBC6Xw+fvwmPdIH/DFYgiMheFATlWdXacOJfw0D4I3z+dhAIL18IP34c7+pEpJSIaRCY2XVmtsLMlpvZi2aWnGN+YzObYWZLzWyWmTWMZT0Jq2ptOPH/gkHlY26AL2bAo13g5UHw44p4VycicRazIDCzVGAYkObubYCKQP8cze4DnnX3dsBtwJ2xqkcIAuGEv4SBcCN88Q482lWBIJLgog4CM6tlZq3N7BAzi3a5JCDFzJKAqsCaHPMPB94Jn88Ezoi2HtkH2QLhT/DlzCAQXroAflge7+pEpITl+4ZuZvub2c1mtgz4EHgMeBn41sz+Y2bH57Wsu2cSfOL/Dvge2ODub+ZotgToGz4/E6hhZnWKtitSaFVrwwm3BIFw7J/hq1kwuhu8NBB+WBbv6kSkhBT0yX4CsAro7u4t3f1od09z94OBu4EzzOyS3BY0s1oEn/CbAg2AamY2MEezG4BjzWwRcCyQCezKZV1DzCzDzDLWrl1bmP2TaKTUguNvDgNhBHw1B0YfDeMHwPdL412diMSYuXtsVmx2NnCKu18S/jwISHf3q/JoXx34xN3zHTBOS0vzjIyMYq9XImxdD/NGw9xHYPsGOOz0oMdQv128KxORIjKzBe6eltu8qI71m9mMaKbl8B2QbmZVzcyAE4FsJ7GbWd2I8YabgCejqUdiLKUmHDci6CEcdzN88y481h1ePB++XxLv6kSkmBU0RpBsZrWBuuFgce3w0QRIzW9Zd59HcGhpIbAs3NbjZnabmfUOmx0HfGpmnwEHAv/cp72R4pVSE477c/A9hONvgW/fg8eOgRfPgzWL412diBSTfA8Nmdlw4FqCY/yZgIWzNgJPuPvDsS4wJx0aiqNtG2DeYzD34eB5y1ODQ0YNOsS7MhEpQH6HhqIaIzCza9z9oWKvrAgUBKXAtg0w7/EwENZDi15Bz6FBx3hXJiJ52OcgCFfSFWhC8N0AANz92eIosDAUBKXIto0w/zGYOwq2/gItTgl6CKmd4l2ZiORQHD2C54BmwGL2nN7p7j6suIqMloKgFNq2EeaHPYStv8ChJwc9hNQj4l2ZiISKIwhWAod7rM41LQQFQSm2fVMQCB88FAZCz+B7CQ0VCCLxts+njwLLgYOKryQpl6rUCK5yeu0yOPFvsDoDxpwAz/cLnotIqVTQWUP/BRyoAXQA5gPbs+a7e+/cl4wd9QjKkO2b4KMx8P5I2PozNO8R9BAOPjLelYkknCIfGjKzY/NbsbvP3sfaCk1BUAZt3wwfPREcMtqyDpqdGHxh7eDO8a5MJGEUy1lDpYWCoAzbvjnoIXwwUoEgUsKK4xITm8xsY47HKjN71cwOKd5ypdyqUh2OvhaGL4WTbgsuVzH2JHjuTPhuXryrE0lY0Q4WPwDcSHBZiYYEVw19ARiPrg8khVWlOnQbHlzL6KTbgyucPtkTnu0D330Y7+pEEk60p48ucff2OaYtdvcOuc2LJR0aKod++xUynoT3H4Rf18Ihx8FxN0Gj9HhXJlJuFMfpo1vM7BwzqxA+zgG2hfPK1iCDlD6Vq0HXa4JDRj3/Gdw288mT4Zne8O3ceFcnUu5FGwQDgAuAn4Afw+cDzSwFGBqj2iTRVK4KXYcGgXDyHfDTSnjqFHjmD/DtB/GuTqTc0llDUnr9tgUWPA3v3Q+//gRNugeHjJp0i3dlImXOvnyP4E/ufo+ZPUQuh4B0rSEpEVmB8P4DsPnHMBBGQJOj412ZSJmRXxAk5TYxQtYdxXJ75y1bXQkpuypXhS5XQdpFYQ/hAXj6tCAQjv0zNO0e7wpFyrQiHxoys/vc/YZirqdA6hEIO7bCgmeCQ0abf4DGRwc9BAWCSJ6K46yh3JyzD8uKFF2lFEi/AoYvhl73wLov4JnT4alT4es5UMbGvUTibV+CwApuIhJDlVLgqMth+BLodS/8/FVwhtFTp8JXsxUIIlEq6Ob1tfN41EFBIKVFpWQ4aggMWwyn3ge/fAPP9g4DYZYCQaQABQ0WLyAYFM7tTf+34i9HZB9USobOl0HHC2DRc/Duv+HZM6BRl2BQ+ZDjwPT5RSQnfY9Ayq+d22Hhs8Gg8sZMODg9uIXmIccrECThFHmw2MyaFDDfzKzhPtQmEjtJVYIewrBFcNq/YMPq4EqnT54MX76jQ0YioYIGi+81s1fMbJCZtTazA8yskZmdYGa3A+8DrUqgTpGiS6oCR14KwxbCaf+GDZlBIIztCV/MUCBIwivw0JCZHU5wraFuQH1gK8EXzV4HJrj7tnwWL3Y6NCT7bOd2WDwO5vwLNq6GhkcG30NodqIOGUm5pTuUieRm529BILz7L9iwClLTgmsZNVcgSPmzL5eYiFxJV6BJ5DLu/uw+VycSL0mVg8tWdBgAS14IegjjzoLUI8JA6KFAkIQQ7a0qnwPuA44GjgwfuSaLSJmTVBmOGAzXLIA/PAib18K4fjDmRPjsTY0hSLkXbY8gDTjcy9pxJJHCyAqE9ufDkhfh3fvghbOhQadgDOHQnuohSLkU7SUmlgMHxbIQkVIjqTIccSFcsxB6PwRb/gcvnANPHA+fTlMPQcqdaHsEdYGPzWw+sD1rorv3jklVIqVBxUrQaRC0Pw+WjIc598KL50L9DsEYQouT1UOQciHaILg1lkWIlGoVK0GnC6B9f1j6Uo5AGAEtTlEgSJmm00dFCmvXDlj6chAIv3wN9dvDsSOgZS8FgpRa+3KJiU1mtjGXxyYz2xjFhq8zsxVmttzMXjSz5BzzG5nZTDNbZGZLzezUwu2aSBxUrAQdB8DQDOjzKGzbCOPPg8eOgU9e1xiClDn5BoG713D3/XJ51HD3/fJb1sxSgWFAmru3ASoC/XM0+wvwsrt3DOc9UvRdESlhFZOgw/l7AuG3zTD+fHisO6ycokCQMmNfbkwTjSQgxcySgKrAmhzzHcgKlP1zmS9S+mUFwtUfQZ/R8NsWeGlAGAj/hd9/j3eFIvmKWRC4eybBl9C+A74HNrj7mzma3QoMNLPVwBvANbGqRyTmKiZBh/Pg6vlw5mNhIAwMDhl9/JoCQUqtmAWBmdUCzgCaAg2AamY2MEez84Cn3b0hcCrwnJntVZOZDTGzDDPLWLt2baxKFikeFZOCM4yung9nPg47t8LLFwQ9BAWClEKxPDTUA/ja3de6+w5gItA1R5tLgJcB3H0ukEzwnYVs3P1xd09z97R69erFsGSRYlQxCdqfGwRC3ydg57YgEEYfDR9PViBIqRHLIPgOSDezqmZmwIkEl6/O2eZEADNrRRAE+sgv5UuFitDunDAQxsCu3+DlQTC6G6yYpECQuIvlGME8YAKwEFgWbutxM7vNzLK+kfxH4DIzWwK8CAzW9Yyk3KpQEdqdDVfPCwLh953wnwvDQHhVgSBxoy+UicTL77uCAJh9D/zvU6jXCo79ExzeByrE+oQ+STRF/kKZiMRQhYrQth9cNRfOGgv+O0y4CB7tCstfCYJCpAQoCETiLTIQ+j0JOEy4OAiEZRMUCBJzCgKR0qJCRWhzFlw5F/o9FUx75RJ4pIsCQWJKQSBS2lSoAG36BoFw9tNgFcJASFcgSEwoCERKqwoVoPWZcOUHcPYzUCFpTyAs/Y8CQYqNgkCktKtQAVr3gSveDwOhEky8FEYdFVwOW4Eg+0hBIFJW7A6E9+CcZyGpCky8DEZ1hiUvwa6d8a5QyigFgUhZU6ECHH4GXP4unPMcJCXDq0PCQBivQJBCUxCIlFUVKsDhvYNAOPd5qFQVXr08CITFLyoQJGoKApGyrkIFaPUHuHwOnDsOKleFSVfAqCNh8QsKBCmQgkCkvKhQAVqdHvQQ+r8AlavBpCvh4TRYNE6BIHlSEIiUN2Zw2GlhILwIVWrA5KuiCoRJizLpdtc7NB3xOt3ueodJizJLsHCJFwWBSHllBoedGhwy6v8iJO8XBsIRsOh52LUjW/NJizK5aeIyMtdvxYHM9Vu5aeIyhUECUBCIlHdZgTBkNpw3HpJrwuSr4aEjYOFzuwPh3umfsnVH9u8kbN2xi3unfxqHoqUkKQhEEoUZtOwFQ2bBeS9BSi14bWgYCM/y0/pNuS62Zv3Wkq1TSpyCQCTRmEHLU4JAOP9lqFobXruG2Sk3cG7FmSSRfQyhQc2U+NQpJUZBIJKozKDFyXDZTDj/P6TsfyB3V3qCWVWup3/Fd6jETlIqVeTGk1vGu1KJMQWBSKIzgxY9qTX8XT5IH82GCrW4q9IY5iT/kRc6raRP23rxrlBiTLeqFJHs3OGLGTDrTsjMgP0Phu7XQ4eBkFQ53tVJEelWlSISPTM4tAdc+jYMeAWqHwhTroOHOkHGk7Dzt3hXKMVMQSAiuYsMhIGvQI2DgkAY2RE+Ggs7t8e7QikmCgIRyZ8ZNO8Bl7wFAyfCfg3g9evDQBijQCgHFAQiEh0zaH4iXPImXPAq7N8QXv9jEAjzn1AglGEKAhEpHDNodgJcPB0umBQMJr9xAzzYIQiEHdviXaEUkoJARIrGDJodDxdPg0GToVbjIBBGdoR5jysQyhAFgYjsGzM45Di4aCoMei0IhKk3wsgOMO8xBUIZoCAQkeJhBoccGxEITWHqn4JA+HA07NA1i0orBYGIFK/dgfAGXPhfqH0ITPtzMIagQCiVFAQiEhtm0PSYMBCmQJ3mYSC0hw8fVSCUIgoCEYm9pt3hoteDQKjbAqaNCAJh7iMKhFJAQSAiJadpdxg8BQa/HgTC9JvggXYwdxT8tiXe1SUsBYGIlLwmR4eB8AYccBhMvznoIXzwsAIhDhQEIhI/TboFA8oXTYUDWsGbt8CD7eCDh+C3X+NdXcKIaRCY2XVmtsLMlpvZi2aWnGP+/Wa2OHx8ZmbrY1mPiJRSjbvCha+FgXA4vPmXoIfw/kgFQgmIWRCYWSowDEhz9zZARaB/ZBt3v87dO7h7B+AhYGKs6hGRMmB3IEyDA1vDW/8XjCG8/6ACIYZifWgoCUgxsySgKrAmn7bnAS/GuB4pRSYtyqTbXe/QdMTrdLvrHSYtyox3SVJaNO4SXLbi4ulwUFt4668KhBiKWRC4eyZwH/Ad8D2wwd3fzK2tmTUGmgLv5DF/iJllmFnG2rVrY1WylKBJizK5aeIyMtdvxYHM9Vu5aeIyhYFk1ygdBk2Ci9+E+u3CQGgL7z0A2zfHu7pyI5aHhmoBZxC8wTcAqpnZwDya9wcmuPuu3Ga6++PunubuafXq6f6p5cG90z9l647sL/fWHbu4d/qncapISrVGRwWXvr7kLajfAd7+WzCo/N79CoRiEMtDQz2Ar919rbvvIDj+3zWPtv3RYaGEsmZ97l8iymu6CAAHd4YLJsIlb0ODjvD2rUEP4d1/w/ZN8a6uzIplEHwHpJtZVTMz4ERgZc5GZnYYUAuYG8NapJRpUDOlUNNFsjn4yOD2mZfOgNQjYMbfw0D4lwKhCGI5RjAPmAAsBJaF23rczG4zs94RTfsD493dY1WLlD43ntySlEoVs01LqVSRG09uGaeKpExqmAYDJ4SBkAYzbgsCYc59sG1jvKsrM6ysvf+mpaV5RkZGvMuQYjBpUSb3Tv+UNeu30qBmCjee3JI+HVPjXZaUZasXwOy74PM3IaUWdLkaOl8OyfvFu7K4M7MF7p6W6zwFgYiUO5kLYNbd8Pl0SK4JXYbCUYkdCPkFgS4xISLlT+oRMOBluGxmcArqzH8Eh4xm3wvbNsS7ulJHPQIRKf8yF8Lse+CzqZC8f0QPYf94VxaV4jiMqh6BiCS21E5w/ngYMgsad4OZ/wx6CLPuhq3r411dvkriy5cKAhFJHA06wnkvwpDZ0PhomHVHcOmKWXeV2kAoiS9fKghEJPE06ADnvQCXzwluljPrziAQZt5Z6gKhJL58qSAQkcRVvz30H7cnEGbfFQbCHbD1l3hXB5TMly8VBCIiuwPh3TAQ7g4C4Z1/xj0QSuLLlwoCEZEs9dsFgXDFe3DIsTDnnjAQ/gFbfo5LSX06pnJn37ak1kzBgNSaKdzZt22xfvlSp4+KiOTlh+VB72Dla1C5BqRfAelXQdXa8a6s0HT6qIhIURzUBs59Dq54H5qfAHPuDXoIM26PWw8hFhQEIiIFOagNnPMsXPkBND8R3r0v+B7CjNvKRSAoCEREonVgazjnGbhyLhx6UnAfhAfawtt/h1/Xxbu6IlMQiIgU1oGHw9lPBz2EQ08K7pT2QNvgRjllMBAUBCIiRZUVCFfNhRYnB/dSfqAtvPU3+PV/8a4uagoCEZF9dUArOPspuOpDaHkKvP9gMKj81l/LRCAoCEREissBh0G/J+HqedCyF7w/MuwhlO5AUBCIiBS3ei2h39ggEA47bU8gvPl/sHltvKvbi4JARCRW6rWEs8bA1fPhsNNh7sPwYDt48y+lKhAUBCIisVavBZz1RBAIrf4Ac0cFPYTpt8Dmn+JdnYJARKTE1D0U+j4OV38Eh58BHz4SDCpPvwU2/Ri3shQEIiIlrW5z6PtY9kB4sD1MuzkugaAgEBGJl6xAGJoBrfvAvEeDMYRpN8GmH0qsDAWBiEi81WkGZ44OA6EvzHss6CFMHVEigaAgEBEpLeo0gzMfhaEfQZuzYP7jJRIICgIRkdKmTjPo8whckwFt+gWB8EA7+ODhmGxOQSAiUlrVPgT6jAoCod3ZULNRTDaTFJO1iohI8al9CJwxKmarV49ARCTBKQhERBKcgkBEJMEpCEREEpyCQEQkwSkIREQSnIJARCTBKQhERBKcuXu8aygUM1sLfFvExesCpffGoYWjfSmdysu+lJf9AO1LlsbuXi+3GWUuCPaFmWW4e1q86ygO2pfSqbzsS3nZD9C+REOHhkREEpyCQEQkwSVaEDwe7wKKkfaldCov+1Je9gO0LwVKqDECERHZW6L1CEREJAcFgYhIgiuXQWBmT5rZT2a2PI/5ZmYjzewLM1tqZp1KusZoRLEfx5nZBjNbHD7+WtI1RsvMDjazmWb2sZmtMLPhubQp9a9LlPtRJl4XM0s2s/lmtiTcl7/n0qaKmb0UvibzzKxJHEotUJT7MtjM1ka8LpfGo9ZomFlFM1tkZlNymVf8r4m7l7sHcAzQCViex/xTgamAAenAvHjXXMT9OA6YEu86o9yX+kCn8HkN4DPg8LL2ukS5H2XidQl/z9XD55WAeUB6jjZXAaPD5/2Bl+Jd9z7sy2Dg4XjXGuX+XA+8kNvfUSxek3LZI3D3OcDP+TQ5A3jWAx8CNc2sfslUF70o9qPMcPfv3X1h+HwTsBJIzdGs1L8uUe5HmRD+njeHP1YKHznPHjkDeCZ8PgE40cyshEqMWpT7UiaYWUPgNGBMHk2K/TUpl0EQhVRgVcTPqymj/5mBLmF3eKqZtY53MdEIu7IdCT61RSpTr0s++wFl5HUJD0EsBn4C3nL3PF8Td98JbADqlGiRUYpiXwDOCg87TjCzg0u2wqg9APwJ+D2P+cX+miRqEJQXCwmuH9IeeAiYFN9yCmZm1YFXgGvdfWO86ymqAvajzLwu7r7L3TsADYHOZtYmziUVWRT78l+gibu3A95iz6fqUsPMTgd+cvcFJbndRA2CTCDy00DDcFqZ4u4bs7rD7v4GUMnM6sa5rDyZWSWCN89x7j4xlyZl4nUpaD/K2usC4O7rgZnAKTlm7X5NzCwJ2B9YV6LFFVJe++Lu69x9e/jjGOCIEi4tGt2A3mb2DTAeOMHMns/Rpthfk0QNgteAQeFZKunABnf/Pt5FFZaZHZR1bNDMOhO8nqXyP2lY51hgpbv/O49mpf51iWY/ysrrYmb1zKxm+DwFOAn4JEez14ALw+f9gHc8HKUsTaLZlxzjTb0JxndKFXe/yd0bunsTgoHgd9x9YI5mxf6aJO3LwqWVmb1IcOZGXTNbDfyNYPAIdx8NvEFwhsoXwBbgovhUmr8o9qMfcKWZ7QS2Av1L43/SUDfgAmBZeBwX4GagEZSp1yWa/Sgrr0t94Bkzq0gQVi+7+xQzuw3IcPfXCELvOTP7guDEhf7xKzdf0ezLMDPrDewk2JfBcau2kGL9mugSEyIiCS5RDw2JiEhIQSAikuAUBCIiCU5BICKS4BQEIiIJTkEgCcPMdoVXnVwRXv7hj2ZW5P8DZnZzxPMmlsdVYnNZ7lozG1SI7VQ2sznhl4dEip2CQBLJVnfv4O6tCb5w1IvguxlFdXPBTbIL38wvJriyZFTc/TdgBnBuYbcnEg0FgSQkd/8JGAIMDb/JXNHM7jWzj8KLkl0Ou+8tMMfMXjezT81stJlVMLO7gJSwhzEuXG1FM3si7HG8GX7DNacTgIXhxcIws1lmdr+ZZZjZSjM70swmmtnnZvaPiOUmAQNi9guRhKYgkITl7l8BFYEDgEsILmlxJHAkcJmZNQ2bdgauAQ4HmgF93X0Ee3oYWW/QhwKjwh7HeuCsXDbbDch5QbHf3D0NGA1MBq4G2gCDzSzrqpLLw7pEip2CQCTQk+A6R4sJLitdh+CNHWC+u3/l7ruAF4Gj81jH1+6+OHy+AGiSS5v6wNoc014L/10GrAjvebAd+Irw4mLhtn8zsxqF3C+RAmnwSRKWmR0C7CK4fr0B17j79BxtjmPvG5zkdV2W7RHPdwG5HRraCiTnsdzvOdbxO9n/j1YBtuWxbZEiU49AEpKZ1SM4FPNweEG46QQXiqsUzm9hZtXC5p3NrGl4htG5wHvh9B1Z7QthJdC8CPXWAf7n7jsKu6xIQdQjkESSEh76qURwBcrngKxLSY8hOJSzMLyE9FqgTzjvI+BhgjfwmcCr4fTHgaVmthC4JcoapobbLazjgdeLsJxIgXT1UZF8hIeGbnD304txna8Cf3L3zwuxzERghLt/Vlx1iGTRoSGRkjeCYNA4KmZWGZikEJBYUY9ARCTBqUcgIpLgFAQiIglOQSAikuAUBCIiCU5BICKS4P4fhj0F5U4eYSoAAAAASUVORK5CYII=
",
                  "text/plain":[
                     "<Figure size 432x288 with 1 Axes>"
                  ]
               },
               "metadata":{
                  "needs_background":"light"
               }
            },
            {
               "output_type":"display_data",
               "data":{
                  "image/png":"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
",
                  "text/plain":[
                     "<Figure size 432x288 with 1 Axes>"
                  ]
               },
               "metadata":{
                  "needs_background":"light"
               }
            },
            {
               "output_type":"display_data",
               "data":{
                  "image/png":"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
",
                  "text/plain":[
                     "<Figure size 432x288 with 1 Axes>"
                  ]
               },
               "metadata":{
                  "needs_background":"light"
               }
            },
            {
               "output_type":"stream",
               "name":"stdout",
               "text":[
                  "                            CLEAR_1.00   CLEAR_2.00  ...        Kd        r2
",
                  "TIME                                                 ...                    
",
                  "2022-01-04 10:53:00+00:00  4326.150000   802.500000  ... -0.287952  0.146285
",
                  "2022-01-04 10:54:00+00:00  8192.633333  7686.533333  ...  0.147041  0.952082
",
                  "2022-01-04 10:55:00+00:00  5577.600000  4786.866667  ...  0.158330  0.943808
",
                  "2022-01-04 10:56:00+00:00  9244.566667  7751.550000  ...  0.127002  0.982977
",
                  "2022-01-04 10:57:00+00:00  7931.300000  5806.266667  ...  0.215292  0.967116
",
                  "2022-01-04 10:58:00+00:00  8923.700000  5987.116667  ...  0.120597  0.627516
",
                  "2022-01-04 10:59:00+00:00  8024.183333  5315.466667  ...  0.129090  0.648729
",
                  "2022-01-04 11:00:00+00:00  6404.000000  4656.000000  ...  0.167044  0.900890
",
                  "
",
                  "[8 rows x 6 columns]
",
                  "
",
                  "
",
                  "Average Kd for samples with r2 > 0.9: 0.163
"
               ]
            },
            {
               "output_type":"display_data",
               "data":{
                  "image/png":"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
",
                  "text/plain":[
                     "<Figure size 432x288 with 1 Axes>"
                  ]
               },
               "metadata":{
                  "needs_background":"light"
               }
            }
         ]
      }
   ]
}
